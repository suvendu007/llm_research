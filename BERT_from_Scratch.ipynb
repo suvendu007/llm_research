{
  "nbformat": 4,
  "nbformat_minor": 0,
  "metadata": {
    "colab": {
      "provenance": [],
      "gpuType": "T4",
      "collapsed_sections": [
        "NmL6A0_hmRdK"
      ],
      "toc_visible": true,
      "authorship_tag": "ABX9TyN6zVd2gUFUjJFYIjEijcMW",
      "include_colab_link": true
    },
    "kernelspec": {
      "name": "python3",
      "display_name": "Python 3"
    },
    "language_info": {
      "name": "python"
    },
    "accelerator": "GPU"
  },
  "cells": [
    {
      "cell_type": "markdown",
      "metadata": {
        "id": "view-in-github",
        "colab_type": "text"
      },
      "source": [
        "<a href=\"https://colab.research.google.com/github/suvendu007/llm_research/blob/main/BERT_from_Scratch.ipynb\" target=\"_parent\"><img src=\"https://colab.research.google.com/assets/colab-badge.svg\" alt=\"Open In Colab\"/></a>"
      ]
    },
    {
      "cell_type": "markdown",
      "source": [
        "# BERT implementation using pytorch - BASIC"
      ],
      "metadata": {
        "id": "B2vnfZpmmPsm"
      }
    },
    {
      "cell_type": "code",
      "source": [
        "!git clone https://github.com/suvendu007/llm_research"
      ],
      "metadata": {
        "colab": {
          "base_uri": "https://localhost:8080/"
        },
        "id": "lpREIyLjuAd_",
        "outputId": "4bb03a71-0607-485c-a8dc-c13aff2417a6"
      },
      "execution_count": 4,
      "outputs": [
        {
          "output_type": "stream",
          "name": "stdout",
          "text": [
            "Cloning into 'llm_research'...\n",
            "remote: Enumerating objects: 3, done.\u001b[K\n",
            "remote: Counting objects: 100% (3/3), done.\u001b[K\n",
            "remote: Compressing objects: 100% (2/2), done.\u001b[K\n",
            "remote: Total 3 (delta 0), reused 0 (delta 0), pack-reused 0 (from 0)\u001b[K\n",
            "Receiving objects: 100% (3/3), done.\n"
          ]
        }
      ]
    },
    {
      "cell_type": "markdown",
      "source": [
        "### install required packages"
      ],
      "metadata": {
        "id": "NmL6A0_hmRdK"
      }
    },
    {
      "cell_type": "code",
      "execution_count": 1,
      "metadata": {
        "colab": {
          "base_uri": "https://localhost:8080/"
        },
        "id": "E738kfpnT1Nu",
        "outputId": "7f25f228-17fb-42f8-c345-357cc59a529a"
      },
      "outputs": [
        {
          "output_type": "stream",
          "name": "stdout",
          "text": [
            "\u001b[?25l   \u001b[90m━━━━━━━━━━━━━━━━━━━━━━━━━━━━━━━━━━━━━━━━\u001b[0m \u001b[32m0.0/480.6 kB\u001b[0m \u001b[31m?\u001b[0m eta \u001b[36m-:--:--\u001b[0m\r\u001b[2K   \u001b[91m━━━━━━━━━━━━━━━━\u001b[0m\u001b[90m╺\u001b[0m\u001b[90m━━━━━━━━━━━━━━━━━━━━━━━\u001b[0m \u001b[32m194.6/480.6 kB\u001b[0m \u001b[31m5.6 MB/s\u001b[0m eta \u001b[36m0:00:01\u001b[0m\r\u001b[2K   \u001b[91m━━━━━━━━━━━━━━━━━━━━━━━━━━━━━━\u001b[0m\u001b[91m╸\u001b[0m\u001b[90m━━━━━━━━━\u001b[0m \u001b[32m368.6/480.6 kB\u001b[0m \u001b[31m5.2 MB/s\u001b[0m eta \u001b[36m0:00:01\u001b[0m\r\u001b[2K   \u001b[91m━━━━━━━━━━━━━━━━━━━━━━━━━━━━━━━━━━━━━━━\u001b[0m\u001b[90m╺\u001b[0m \u001b[32m471.0/480.6 kB\u001b[0m \u001b[31m5.1 MB/s\u001b[0m eta \u001b[36m0:00:01\u001b[0m\r\u001b[2K   \u001b[90m━━━━━━━━━━━━━━━━━━━━━━━━━━━━━━━━━━━━━━━━\u001b[0m \u001b[32m480.6/480.6 kB\u001b[0m \u001b[31m4.1 MB/s\u001b[0m eta \u001b[36m0:00:00\u001b[0m\n",
            "\u001b[?25h\u001b[?25l   \u001b[90m━━━━━━━━━━━━━━━━━━━━━━━━━━━━━━━━━━━━━━━━\u001b[0m \u001b[32m0.0/116.3 kB\u001b[0m \u001b[31m?\u001b[0m eta \u001b[36m-:--:--\u001b[0m\r\u001b[2K   \u001b[91m━━━━━━━━━━━━━━━━━━━━━━━━━━━━━━━━━━━━━━\u001b[0m\u001b[91m╸\u001b[0m\u001b[90m━\u001b[0m \u001b[32m112.6/116.3 kB\u001b[0m \u001b[31m5.2 MB/s\u001b[0m eta \u001b[36m0:00:01\u001b[0m\r\u001b[2K   \u001b[90m━━━━━━━━━━━━━━━━━━━━━━━━━━━━━━━━━━━━━━━━\u001b[0m \u001b[32m116.3/116.3 kB\u001b[0m \u001b[31m2.8 MB/s\u001b[0m eta \u001b[36m0:00:00\u001b[0m\n",
            "\u001b[2K   \u001b[90m━━━━━━━━━━━━━━━━━━━━━━━━━━━━━━━━━━━━━━━━\u001b[0m \u001b[32m179.3/179.3 kB\u001b[0m \u001b[31m3.7 MB/s\u001b[0m eta \u001b[36m0:00:00\u001b[0m\n",
            "\u001b[2K   \u001b[90m━━━━━━━━━━━━━━━━━━━━━━━━━━━━━━━━━━━━━━━━\u001b[0m \u001b[32m143.5/143.5 kB\u001b[0m \u001b[31m3.1 MB/s\u001b[0m eta \u001b[36m0:00:00\u001b[0m\n",
            "\u001b[2K   \u001b[90m━━━━━━━━━━━━━━━━━━━━━━━━━━━━━━━━━━━━━━━━\u001b[0m \u001b[32m194.8/194.8 kB\u001b[0m \u001b[31m4.7 MB/s\u001b[0m eta \u001b[36m0:00:00\u001b[0m\n",
            "\u001b[?25h\u001b[31mERROR: pip's dependency resolver does not currently take into account all the packages that are installed. This behaviour is the source of the following dependency conflicts.\n",
            "torch 2.5.1+cu124 requires nvidia-cublas-cu12==12.4.5.8; platform_system == \"Linux\" and platform_machine == \"x86_64\", but you have nvidia-cublas-cu12 12.5.3.2 which is incompatible.\n",
            "torch 2.5.1+cu124 requires nvidia-cuda-cupti-cu12==12.4.127; platform_system == \"Linux\" and platform_machine == \"x86_64\", but you have nvidia-cuda-cupti-cu12 12.5.82 which is incompatible.\n",
            "torch 2.5.1+cu124 requires nvidia-cuda-nvrtc-cu12==12.4.127; platform_system == \"Linux\" and platform_machine == \"x86_64\", but you have nvidia-cuda-nvrtc-cu12 12.5.82 which is incompatible.\n",
            "torch 2.5.1+cu124 requires nvidia-cuda-runtime-cu12==12.4.127; platform_system == \"Linux\" and platform_machine == \"x86_64\", but you have nvidia-cuda-runtime-cu12 12.5.82 which is incompatible.\n",
            "torch 2.5.1+cu124 requires nvidia-cudnn-cu12==9.1.0.70; platform_system == \"Linux\" and platform_machine == \"x86_64\", but you have nvidia-cudnn-cu12 9.3.0.75 which is incompatible.\n",
            "torch 2.5.1+cu124 requires nvidia-cufft-cu12==11.2.1.3; platform_system == \"Linux\" and platform_machine == \"x86_64\", but you have nvidia-cufft-cu12 11.2.3.61 which is incompatible.\n",
            "torch 2.5.1+cu124 requires nvidia-curand-cu12==10.3.5.147; platform_system == \"Linux\" and platform_machine == \"x86_64\", but you have nvidia-curand-cu12 10.3.6.82 which is incompatible.\n",
            "torch 2.5.1+cu124 requires nvidia-cusolver-cu12==11.6.1.9; platform_system == \"Linux\" and platform_machine == \"x86_64\", but you have nvidia-cusolver-cu12 11.6.3.83 which is incompatible.\n",
            "torch 2.5.1+cu124 requires nvidia-cusparse-cu12==12.3.1.170; platform_system == \"Linux\" and platform_machine == \"x86_64\", but you have nvidia-cusparse-cu12 12.5.1.3 which is incompatible.\n",
            "torch 2.5.1+cu124 requires nvidia-nvjitlink-cu12==12.4.127; platform_system == \"Linux\" and platform_machine == \"x86_64\", but you have nvidia-nvjitlink-cu12 12.5.82 which is incompatible.\n",
            "gcsfs 2024.10.0 requires fsspec==2024.10.0, but you have fsspec 2024.9.0 which is incompatible.\u001b[0m\u001b[31m\n",
            "\u001b[0m"
          ]
        }
      ],
      "source": [
        "!pip -q install transformers datasets tokenizers"
      ]
    },
    {
      "cell_type": "code",
      "source": [
        "!wget http://www.cs.cornell.edu/~cristian/data/cornell_movie_dialogs_corpus.zip\n",
        "!unzip -qq cornell_movie_dialogs_corpus.zip\n",
        "!rm cornell_movie_dialogs_corpus.zip\n",
        "!mkdir datasets\n",
        "!mv cornell\\ movie-dialogs\\ corpus/movie_conversations.txt ./datasets\n",
        "!mv cornell\\ movie-dialogs\\ corpus/movie_lines.txt ./datasets"
      ],
      "metadata": {
        "colab": {
          "base_uri": "https://localhost:8080/"
        },
        "id": "5o-A5z0nmNjH",
        "outputId": "f03e5b71-2b68-4fdd-c40f-a63e6faa5a9d"
      },
      "execution_count": 6,
      "outputs": [
        {
          "output_type": "stream",
          "name": "stdout",
          "text": [
            "--2025-02-04 16:12:09--  http://www.cs.cornell.edu/~cristian/data/cornell_movie_dialogs_corpus.zip\n",
            "Resolving www.cs.cornell.edu (www.cs.cornell.edu)... 132.236.207.53\n",
            "Connecting to www.cs.cornell.edu (www.cs.cornell.edu)|132.236.207.53|:80... connected.\n",
            "HTTP request sent, awaiting response... 301 Moved Permanently\n",
            "Location: https://www.cs.cornell.edu/~cristian/data/cornell_movie_dialogs_corpus.zip [following]\n",
            "--2025-02-04 16:12:09--  https://www.cs.cornell.edu/~cristian/data/cornell_movie_dialogs_corpus.zip\n",
            "Connecting to www.cs.cornell.edu (www.cs.cornell.edu)|132.236.207.53|:443... connected.\n",
            "HTTP request sent, awaiting response... 200 OK\n",
            "Length: 9916637 (9.5M) [application/zip]\n",
            "Saving to: ‘cornell_movie_dialogs_corpus.zip’\n",
            "\n",
            "cornell_movie_dialo 100%[===================>]   9.46M  12.6MB/s    in 0.8s    \n",
            "\n",
            "2025-02-04 16:12:10 (12.6 MB/s) - ‘cornell_movie_dialogs_corpus.zip’ saved [9916637/9916637]\n",
            "\n"
          ]
        }
      ]
    },
    {
      "cell_type": "code",
      "source": [
        "## import required packages\n",
        "import os\n",
        "from pathlib import Path\n",
        "import torch\n",
        "import re\n",
        "import random\n",
        "import transformers, datasets\n",
        "from tokenizers import BertWordPieceTokenizer\n",
        "from transformers import BertTokenizer\n",
        "import tqdm\n",
        "from torch.utils.data import Dataset, DataLoader\n",
        "import itertools\n",
        "import math\n",
        "import torch.nn.functional as F\n",
        "import numpy as np\n",
        "from torch.optim import Adam"
      ],
      "metadata": {
        "id": "FlQvs3KaUTHr"
      },
      "execution_count": 7,
      "outputs": []
    },
    {
      "cell_type": "markdown",
      "source": [
        "To begin our implementation of BERT, we first import the necessary libraries and preprocess the dataset by storing it into memory.\n",
        "\n",
        "The data corpus is divided into two files, **‘movie_conversations.txt’** and **‘movie_lines.txt’.**\n",
        "\n",
        "1.   We then split the text in ‘movie_lines.txt’ using a special delimiter (‘+++ $ +++’) to separate the line’s ID, character ID, movie ID, and dialogue text, and store them in a dictionary called line_dic.\n",
        "\n",
        "2.   Next, we generate question-answer pairs by iterating over each conversation in ‘movie_conversations.txt’ and pairing the current line’s text with the next line’s text for each conversation.\n",
        "\n",
        "3.   Finally, we limit the maximum length of the input sequence to 64 tokens, which is a common length used in many NLP tasks, by splitting the text and taking only the first 64 tokens."
      ],
      "metadata": {
        "id": "6AKItTDiUsZ8"
      }
    },
    {
      "cell_type": "code",
      "source": [
        "### loading all data into memory\n",
        "corpus_movie_conv = './datasets/movie_conversations.txt'\n",
        "corpus_movie_lines = './datasets/movie_lines.txt'\n",
        "with open(corpus_movie_conv, 'r', encoding='iso-8859-1') as c:\n",
        "    conv = c.readlines()\n",
        "with open(corpus_movie_lines, 'r', encoding='iso-8859-1') as l:\n",
        "    lines = l.readlines()"
      ],
      "metadata": {
        "id": "vxF0rkoUVZ2F"
      },
      "execution_count": 4,
      "outputs": []
    },
    {
      "cell_type": "code",
      "source": [
        "print(f\" example of the conv and lines : conv {conv[0:5]} and  lines {lines[0:5]}\")"
      ],
      "metadata": {
        "colab": {
          "base_uri": "https://localhost:8080/"
        },
        "id": "260_FJInV0HO",
        "outputId": "9f051c40-4ab9-44d9-9cd0-5095e2af3789"
      },
      "execution_count": 5,
      "outputs": [
        {
          "output_type": "execute_result",
          "data": {
            "text/plain": [
              "['L1045 +++$+++ u0 +++$+++ m0 +++$+++ BIANCA +++$+++ They do not!\\n',\n",
              " 'L1044 +++$+++ u2 +++$+++ m0 +++$+++ CAMERON +++$+++ They do to!\\n',\n",
              " 'L985 +++$+++ u0 +++$+++ m0 +++$+++ BIANCA +++$+++ I hope so.\\n',\n",
              " 'L984 +++$+++ u2 +++$+++ m0 +++$+++ CAMERON +++$+++ She okay?\\n',\n",
              " \"L925 +++$+++ u0 +++$+++ m0 +++$+++ BIANCA +++$+++ Let's go.\\n\",\n",
              " 'L924 +++$+++ u2 +++$+++ m0 +++$+++ CAMERON +++$+++ Wow\\n',\n",
              " \"L872 +++$+++ u0 +++$+++ m0 +++$+++ BIANCA +++$+++ Okay -- you're gonna need to learn how to lie.\\n\",\n",
              " 'L871 +++$+++ u2 +++$+++ m0 +++$+++ CAMERON +++$+++ No\\n',\n",
              " 'L870 +++$+++ u0 +++$+++ m0 +++$+++ BIANCA +++$+++ I\\'m kidding.  You know how sometimes you just become this \"persona\"?  And you don\\'t know how to quit?\\n',\n",
              " 'L869 +++$+++ u0 +++$+++ m0 +++$+++ BIANCA +++$+++ Like my fear of wearing pastels?\\n']"
            ]
          },
          "metadata": {},
          "execution_count": 5
        }
      ]
    },
    {
      "cell_type": "markdown",
      "source": [
        "1.   We then split the text in ‘movie_lines.txt’ using a special delimiter (‘+++ $ +++’) to separate the line’s ID, character ID, movie ID, and dialogue text, and store them in a dictionary called line_dic."
      ],
      "metadata": {
        "id": "t5Ae4tonW7KW"
      }
    },
    {
      "cell_type": "code",
      "source": [
        "### splitting text using special lines\n",
        "lines_dic = {}\n",
        "for line in lines:\n",
        "    objects = line.split(\" +++$+++ \")\n",
        "    lines_dic[objects[0]] = objects[-1]"
      ],
      "metadata": {
        "id": "M8gedc4aV0z6"
      },
      "execution_count": 6,
      "outputs": []
    },
    {
      "cell_type": "markdown",
      "source": [
        "Next, we generate question-answer pairs by iterating over each conversation in ‘movie_conversations.txt’ and pairing the current line’s text with the next line’s text for each conversation."
      ],
      "metadata": {
        "id": "8IoBO05dXCJa"
      }
    },
    {
      "cell_type": "code",
      "source": [
        "MAX_LEN=64"
      ],
      "metadata": {
        "id": "Ioue6vhXWtaz"
      },
      "execution_count": 7,
      "outputs": []
    },
    {
      "cell_type": "markdown",
      "source": [
        "3.   Finally, we limit the maximum length of the input sequence to 64 tokens, which is a common length used in many NLP tasks, by splitting the text and taking only the first 64 tokens."
      ],
      "metadata": {
        "id": "mErAlSoEXK6f"
      }
    },
    {
      "cell_type": "code",
      "source": [
        "### generate question answer pairs\n",
        "pairs = []\n",
        "for con in conv:\n",
        "    ids = eval(con.split(\" +++$+++ \")[-1])\n",
        "    for i in range(len(ids)):\n",
        "        qa_pairs = []\n",
        "\n",
        "        if i == len(ids) - 1:\n",
        "            break\n",
        "\n",
        "        first = lines_dic[ids[i]].strip()\n",
        "        second = lines_dic[ids[i+1]].strip()\n",
        "\n",
        "        qa_pairs.append(' '.join(first.split()[:MAX_LEN]))\n",
        "        qa_pairs.append(' '.join(second.split()[:MAX_LEN]))\n",
        "        pairs.append(qa_pairs)"
      ],
      "metadata": {
        "id": "Z_VDMtEFWVF8"
      },
      "execution_count": 8,
      "outputs": []
    },
    {
      "cell_type": "code",
      "source": [
        "pairs[0]"
      ],
      "metadata": {
        "colab": {
          "base_uri": "https://localhost:8080/"
        },
        "id": "OFhZXhs1WWzz",
        "outputId": "ff343c02-4974-4866-b62a-83ef7bd36190"
      },
      "execution_count": 9,
      "outputs": [
        {
          "output_type": "execute_result",
          "data": {
            "text/plain": [
              "['Can we make this quick? Roxanne Korrine and Andrew Barrett are having an incredibly horrendous public break- up on the quad. Again.',\n",
              " \"Well, I thought we'd start with pronunciation, if that's okay with you.\"]"
            ]
          },
          "metadata": {},
          "execution_count": 9
        }
      ]
    },
    {
      "cell_type": "markdown",
      "source": [
        "# **WordPiece Tokenization**\n",
        "\n",
        "The initial stage of creating a fresh BERT model involves training a new tokenizer. Tokenization is the process of breaking down a text into smaller units called “tokens,” which are then converted into a numerical representation. An example of this would be splitting the sentence\n",
        "\n",
        "###   “I like surfboarding!”\n",
        "\n",
        "\n",
        "[‘[CLS]’, ‘i’, ‘like’, ‘surf’, ‘##board’, ‘##ing’, ‘!’, ‘[SEP]’]\n",
        "\n",
        " →\n",
        "\n",
        "[1, 48, 250, 4033, 3588, 154, 5, 2]*"
      ],
      "metadata": {
        "id": "b8G7TQEmXr30"
      }
    },
    {
      "cell_type": "markdown",
      "source": [
        "A tokenized BERT input always starts with a special [CLS] token and ends with a special [SEP] token, which are used for specific purposes that will be explained later.\n",
        "\n",
        "BERT employs a WordPiece tokenizer, which can split a single word into multiple tokens. For instance, in the example given earlier, the word “surfboarding” is broken down into ['surf', '##boarding', '##ing'].\n",
        "\n",
        "This technique helps the model to understand that words like surfboard\n",
        "and snowboard have shared meaning through the common wordpiece  ##board."
      ],
      "metadata": {
        "id": "KHaIaFoqX783"
      }
    },
    {
      "cell_type": "markdown",
      "source": [
        "# **Concept**\n",
        "\n",
        "**score = (freq_of_pair) / (freq_of_first_element × freq_of_second_element)**\n",
        "\n",
        "By dividing the frequency of the pair by the product of the frequencies of each of its parts, the algorithm prioritizes the merging of pairs where the individual parts are less frequent in the vocabulary.\n",
        "\n",
        "For instance, it won’t necessarily merge (\"un\", \"##able\") even if that pair occurs very frequently in the vocabulary, because the two pairs \"un\" and \"##able\" will likely each appear in a lot of other words and have a high frequency.\n",
        "\n",
        "In contrast, a pair like (\"hu\", \"##gging\") will probably be merged faster (assuming the word “hugging” appears often in the vocabulary) since \"hu\" and \"##gging\" are likely to be less frequent individually."
      ],
      "metadata": {
        "id": "Dv8ebKHJYC2m"
      }
    },
    {
      "cell_type": "markdown",
      "source": [
        "#### Saving the conversation text into multiple .txt files (with batch of N=10000)"
      ],
      "metadata": {
        "id": "XU0GiBVvY4jm"
      }
    },
    {
      "cell_type": "code",
      "source": [
        "# WordPiece tokenizer\n",
        "\n",
        "### save data as txt file\n",
        "os.mkdir('./data')\n",
        "text_data = []\n",
        "file_count = 0\n",
        "\n",
        "for sample in tqdm.tqdm([x[0] for x in pairs]):\n",
        "    text_data.append(sample)\n",
        "\n",
        "    # once we hit the 10K mark, save to file\n",
        "    if len(text_data) == 10000:\n",
        "        with open(f'./data/text_{file_count}.txt', 'w', encoding='utf-8') as fp:\n",
        "            fp.write('\\n'.join(text_data))\n",
        "        text_data = []\n",
        "        file_count += 1\n",
        "\n",
        "paths = [str(x) for x in Path('./data').glob('**/*.txt')]\n"
      ],
      "metadata": {
        "colab": {
          "base_uri": "https://localhost:8080/"
        },
        "id": "kZ0E9JIBY1sN",
        "outputId": "9b554831-29e7-4202-b6ec-fe377106d257"
      },
      "execution_count": 10,
      "outputs": [
        {
          "output_type": "stream",
          "name": "stderr",
          "text": [
            "100%|██████████| 221616/221616 [00:00<00:00, 1896250.39it/s]\n"
          ]
        }
      ]
    },
    {
      "cell_type": "markdown",
      "source": [
        "To train the tokenizer, the BertWordPieceTokenizer from the transformer library was used with the steps below:\n",
        "\n",
        "Define BertWordPieceTokenizer with some parameters like\n",
        "\n",
        "clean_text to remove control characters,\n",
        "handle_chinese_chars to include spaces around Chinese characters, stripe_accents to remove accents and make é → e, ô → o, and\n",
        "\n",
        "lowercase to view capital and lowercase characters as equal."
      ],
      "metadata": {
        "id": "kdvLbsftZ9Pq"
      }
    },
    {
      "cell_type": "code",
      "source": [
        "### training own tokenizer\n",
        "tokenizer = BertWordPieceTokenizer(\n",
        "    clean_text=True,                ## clean_text to remove control characters\n",
        "    handle_chinese_chars=False,     ## handle_chinese_chars to include spaces around Chinese characters\n",
        "    strip_accents=False,            ## stripe_accents to remove accents and make é → e, ô → o\n",
        "    lowercase=True                  ## to view capital and lowercase characters as equal.\n",
        ")"
      ],
      "metadata": {
        "id": "RoIsefzWZTej"
      },
      "execution_count": 11,
      "outputs": []
    },
    {
      "cell_type": "markdown",
      "source": [
        "Train the tokenizer based on the file path to .txt files with parameters like\n",
        "\n",
        "vocab_size defines the total number of tokens,\n",
        "* min_frequency for minimum frequency for a pair of tokens to be merged,\n",
        "\n",
        "* special_tokens defines a list of the special tokens that BERT uses,\n",
        "\n",
        "* limit_alphabet for a maximum number of different characters, workpieces_prefix the prefix added to pieces of words (like ##ing)."
      ],
      "metadata": {
        "id": "xRZ0LZk4Z-of"
      }
    },
    {
      "cell_type": "code",
      "source": [
        "tokenizer.train(\n",
        "    files=paths,\n",
        "    vocab_size=30_000,      ## vocab_size defines the total number of tokens\n",
        "    min_frequency=5,        ## min_frequency for minimum frequency for a pair of tokens to be merged\n",
        "    limit_alphabet=1000,    ## limit_alphabet for a maximum number of different characters\n",
        "    wordpieces_prefix='##', ## workpieces_prefix the prefix added to pieces of words (like ##ing)\n",
        "    special_tokens=['[PAD]', '[CLS]', '[SEP]', '[MASK]', '[UNK]']  ## special_tokens defines a list of the special tokens that BERT uses\n",
        "    )\n",
        "\n",
        "os.mkdir('./bert-it-1')\n",
        "tokenizer.save_model('./bert-it-1', 'bert-it')\n",
        "tokenizer = BertTokenizer.from_pretrained('./bert-it-1/bert-it-vocab.txt', local_files_only=True)"
      ],
      "metadata": {
        "colab": {
          "base_uri": "https://localhost:8080/"
        },
        "id": "c4tzAh7xZr7P",
        "outputId": "df179228-9f18-4e47-b270-47dd8c279489"
      },
      "execution_count": 12,
      "outputs": [
        {
          "output_type": "stream",
          "name": "stderr",
          "text": [
            "/usr/local/lib/python3.11/dist-packages/transformers/tokenization_utils_base.py:1925: FutureWarning: Calling BertTokenizer.from_pretrained() with the path to a single file or url is deprecated and won't be possible anymore in v5. Use a model identifier or the path to a directory instead.\n",
            "  warnings.warn(\n"
          ]
        }
      ]
    },
    {
      "cell_type": "markdown",
      "source": [
        "**To specifically highlight these special tokens for BERT:**\n",
        "\n",
        "***CLS*** stands for classification. It serves as the the Start of Sentence (SOS) and represent the meaning of the entire sentence.\n",
        "\n",
        "***SEP*** serves as End of Sentence (EOS) and also the separation token between first and second sentences.\n",
        "\n",
        "***PAD*** to be added into sentences so that all of them would be in equal length. During the training process, please note that the [PAD] token with id of 0 will not contribute to the gradient .\n",
        "\n",
        "***MASK*** for word replacement during masked language prediction\n",
        "UNK serves as a replacement for token if it’s not being found in the tokenizer’s vocab."
      ],
      "metadata": {
        "id": "uRGiZGuJghod"
      }
    },
    {
      "cell_type": "markdown",
      "source": [
        "---\n",
        "# Section 2 (Training statergy)\n",
        "The unique pre-training strategy of BERT are the one of the many reasons for\n",
        "\n",
        "BERT to account for a sentence’s context.\n",
        "\n",
        "**BERT does not try to predict the next word in the sentence but instead makes use of the following two strategies**:\n",
        "\n"
      ],
      "metadata": {
        "id": "HylyWLSvhJj9"
      }
    },
    {
      "cell_type": "markdown",
      "source": [
        "**Masked Language Model (MLM)**\n",
        "The simple idea by masking 15% of the words with MASK token and predict them.\n",
        "\n",
        "Yet, there is a problem with this masking approach as the model only tries to predict when the [MASK] token is present in the input, while we want the model to try to predict the correct tokens regardless of what token is present in the input. To deal with this issue,* out of the 15% of the tokens selected for masking:*\n",
        "- 80% of the tokens are actually replaced with the token [MASK].\n",
        "- 10% of the time tokens are replaced with a random token.\n",
        "- 10% of the time tokens are left unchanged."
      ],
      "metadata": {
        "id": "GWyO7uOsLOgD"
      }
    },
    {
      "cell_type": "markdown",
      "source": [
        "**Next Sentence Prediction (NSP)**\n",
        "The NSP task forces the model to understand the relationship between two sentences.\n",
        "\n",
        "In this task, BERT is required to predict whether the second sentence is related to the first one. During training, the model is fed with 50% of connected sentences and another half with random sentence sequence."
      ],
      "metadata": {
        "id": "WhgPBx1VL4Ej"
      }
    },
    {
      "cell_type": "code",
      "source": [
        "## preparing the dataset for training\n",
        "class BERTDataset(Dataset):\n",
        "    def __init__(self, data_pair, tokenizer, seq_len=64):\n",
        "\n",
        "        self.tokenizer = tokenizer\n",
        "        self.seq_len = seq_len\n",
        "        self.corpus_lines = len(data_pair)\n",
        "        self.lines = data_pair\n",
        "\n",
        "    def __len__(self):\n",
        "        return self.corpus_lines\n",
        "\n",
        "    def __getitem__(self, item):\n",
        "\n",
        "        # Step 1: get random sentence pair, either negative or positive (saved as is_next_label)\n",
        "        t1, t2, is_next_label = self.get_sent(item)\n",
        "\n",
        "        # Step 2: replace random words in sentence with mask / random words\n",
        "        t1_random, t1_label = self.random_word(t1)\n",
        "        t2_random, t2_label = self.random_word(t2)\n",
        "\n",
        "        # Step 3: Adding CLS and SEP tokens to the start and end of sentences\n",
        "         # Adding PAD token for labels\n",
        "        t1 = [self.tokenizer.vocab['[CLS]']] + t1_random + [self.tokenizer.vocab['[SEP]']]\n",
        "        t2 = t2_random + [self.tokenizer.vocab['[SEP]']]\n",
        "        t1_label = [self.tokenizer.vocab['[PAD]']] + t1_label + [self.tokenizer.vocab['[PAD]']]\n",
        "        t2_label = t2_label + [self.tokenizer.vocab['[PAD]']]\n",
        "\n",
        "        # Step 4: combine sentence 1 and 2 as one input\n",
        "        # adding PAD tokens to make the sentence same length as seq_len\n",
        "        segment_label = ([1 for _ in range(len(t1))] + [2 for _ in range(len(t2))])[:self.seq_len]\n",
        "        bert_input = (t1 + t2)[:self.seq_len]\n",
        "        bert_label = (t1_label + t2_label)[:self.seq_len]\n",
        "        padding = [self.tokenizer.vocab['[PAD]'] for _ in range(self.seq_len - len(bert_input))]\n",
        "        bert_input.extend(padding), bert_label.extend(padding), segment_label.extend(padding)\n",
        "\n",
        "        output = {\"bert_input\": bert_input,\n",
        "                  \"bert_label\": bert_label,\n",
        "                  \"segment_label\": segment_label,\n",
        "                  \"is_next\": is_next_label}\n",
        "\n",
        "        return {key: torch.tensor(value) for key, value in output.items()}\n",
        "\n",
        "    def random_word(self, sentence):\n",
        "        tokens = sentence.split()\n",
        "        output_label = []\n",
        "        output = []\n",
        "\n",
        "        # 15% of the tokens would be replaced\n",
        "        for i, token in enumerate(tokens):\n",
        "            prob = random.random()\n",
        "\n",
        "            # remove cls and sep token\n",
        "            token_id = self.tokenizer(token)['input_ids'][1:-1]\n",
        "\n",
        "            if prob < 0.15:\n",
        "                prob /= 0.15\n",
        "\n",
        "                # 80% chance change token to mask token\n",
        "                if prob < 0.8:\n",
        "                    for i in range(len(token_id)):\n",
        "                        output.append(self.tokenizer.vocab['[MASK]'])\n",
        "\n",
        "                # 10% chance change token to random token\n",
        "                elif prob < 0.9:\n",
        "                    for i in range(len(token_id)):\n",
        "                        output.append(random.randrange(len(self.tokenizer.vocab)))\n",
        "\n",
        "                # 10% chance change token to current token\n",
        "                else:\n",
        "                    output.append(token_id)\n",
        "\n",
        "                output_label.append(token_id)\n",
        "\n",
        "            else:\n",
        "                output.append(token_id)\n",
        "                for i in range(len(token_id)):\n",
        "                    output_label.append(0)\n",
        "\n",
        "        # flattening\n",
        "        output = list(itertools.chain(*[[x] if not isinstance(x, list) else x for x in output]))\n",
        "        output_label = list(itertools.chain(*[[x] if not isinstance(x, list) else x for x in output_label]))\n",
        "        assert len(output) == len(output_label)\n",
        "        return output, output_label\n",
        "\n",
        "    def get_sent(self, index):\n",
        "        '''return random sentence pair'''\n",
        "        t1, t2 = self.get_corpus_line(index)\n",
        "\n",
        "        # negative or positive pair, for next sentence prediction\n",
        "        if random.random() > 0.5:\n",
        "            return t1, t2, 1\n",
        "        else:\n",
        "            return t1, self.get_random_line(), 0\n",
        "\n",
        "    def get_corpus_line(self, item):\n",
        "        '''return sentence pair'''\n",
        "        return self.lines[item][0], self.lines[item][1]\n",
        "\n",
        "    def get_random_line(self):\n",
        "        '''return random single sentence'''\n",
        "        return self.lines[random.randrange(len(self.lines))][1]"
      ],
      "metadata": {
        "id": "JU1cjvEnM5h8"
      },
      "execution_count": 13,
      "outputs": []
    },
    {
      "cell_type": "markdown",
      "source": [
        "**Example with sample record  :**\n",
        "\n",
        "*get_sent(item):*\n",
        "\n",
        "item = 0, so we get the sentence pair (**\"Hello world.\", \"How are you?\"**).\n",
        "\n",
        "Randomly, is_next_label is set to 1\n",
        "(indicating the sentences follow each other).\n",
        "\n",
        "**t1 = \"Hello world.\" and t2 = \"How are you?\".**\n",
        "\n",
        "*random_word(t1):*\n",
        "\n",
        "Let's say it replaces \"world\" with [MASK].\n",
        "\n",
        "Thus, t1_random = [\"Hello\", \"[MASK]\"] and t1_label = [0, \"world\"].\n",
        "\n",
        "*random_word(t2):*\n",
        "\n",
        "Let's say it leaves \"How are you?\" unchanged.\n",
        "\n",
        "Thus, t2_random = [\"How\", \"are\", \"you\", \"?\"] and t2_label = [0, 0, 0, 0].\n",
        "\n",
        "\n",
        "\n",
        "\n",
        "\n",
        "*Adding special tokens:*\n",
        "\n",
        "t1 = ['[CLS]', 'Hello', '[MASK]', '[SEP]']\n",
        "\n",
        "t2 = ['How', 'are', 'you', '?', '[SEP]']\n",
        "\n",
        "t1_label = ['[PAD]', 0, 'world', '[PAD]']\n",
        "\n",
        "t2_label = [0, 0, 0, 0, '[PAD]']\n",
        "\n",
        "Combining sentences and padding:\n",
        "\n",
        "bert_input will be ['[CLS]', 'Hello', '[MASK]', '[SEP]', 'How', 'are', 'you', '?', '[SEP]', ..., '[PAD]'] (total 64 tokens).\n",
        "\n",
        "bert_label will be ['[PAD]', 0, 'world', '[PAD]', 0, 0, 0, 0, '[PAD]', ..., '[PAD]'] (total 64 tokens).\n",
        "\n",
        "segment_label will be [1, 1, 1, 1, 2, 2, 2, 2, 2, ..., 2] (total 64 tokens).\n",
        "\n",
        "Creating the output dictionary:\n",
        "\n",
        "Convert all arrays to tensors and return as a dictionary:\n",
        "\n"
      ],
      "metadata": {
        "id": "dYA_5Oh3M7bL"
      }
    },
    {
      "cell_type": "markdown",
      "source": [
        "***By printing a sample output from the prepared dataset, we will see 4 keys output***\n",
        "\n",
        "*   **bert_input** for tokenized sentences\n",
        "\n",
        "*   **bert_label** stores original words of selected masking tokens\n",
        "\n",
        "*   **segment_label** as the identifier for sentence A or B, this allows the model to distinguish between sentences\n",
        "*   **is_next**   as truth label for whether the two sentences are related\n",
        "\n",
        "\n",
        "\n",
        "\n"
      ],
      "metadata": {
        "id": "Uulu6724OOm6"
      }
    },
    {
      "cell_type": "code",
      "source": [
        "train_data = BERTDataset(pairs, seq_len=MAX_LEN, tokenizer=tokenizer)\n",
        "\n",
        "train_loader = DataLoader(train_data, batch_size=32, shuffle=True, pin_memory=True)\n",
        "\n",
        "\n",
        "sample_data = next(iter(train_loader))\n",
        "\n",
        "# print(train_data[random.randrange(len(train_data))])"
      ],
      "metadata": {
        "colab": {
          "base_uri": "https://localhost:8080/"
        },
        "id": "puRzqzAcOCIF",
        "outputId": "60a52f21-ae83-47cd-8833-89720d4502ea"
      },
      "execution_count": 14,
      "outputs": [
        {
          "output_type": "stream",
          "name": "stdout",
          "text": [
            "{'bert_input': tensor([   1,  150, 2450,   34,    2,    3,  146, 2073, 5538,  355,    3,    3,\n",
            "         146,   11,  265,  516,  150, 2450,   17,    2,    0,    0,    0,    0,\n",
            "           0,    0,    0,    0,    0,    0,    0,    0,    0,    0,    0,    0,\n",
            "           0,    0,    0,    0,    0,    0,    0,    0,    0,    0,    0,    0,\n",
            "           0,    0,    0,    0,    0,    0,    0,    0,    0,    0,    0,    0,\n",
            "           0,    0,    0,    0]), 'bert_label': tensor([   0,    0,    0,    0,    0,  270,    0,    0,    0,    0, 5556,   15,\n",
            "           0,    0,    0,    0,    0,    0,    0,    0,    0,    0,    0,    0,\n",
            "           0,    0,    0,    0,    0,    0,    0,    0,    0,    0,    0,    0,\n",
            "           0,    0,    0,    0,    0,    0,    0,    0,    0,    0,    0,    0,\n",
            "           0,    0,    0,    0,    0,    0,    0,    0,    0,    0,    0,    0,\n",
            "           0,    0,    0,    0]), 'segment_label': tensor([1, 1, 1, 1, 1, 2, 2, 2, 2, 2, 2, 2, 2, 2, 2, 2, 2, 2, 2, 2, 0, 0, 0, 0,\n",
            "        0, 0, 0, 0, 0, 0, 0, 0, 0, 0, 0, 0, 0, 0, 0, 0, 0, 0, 0, 0, 0, 0, 0, 0,\n",
            "        0, 0, 0, 0, 0, 0, 0, 0, 0, 0, 0, 0, 0, 0, 0, 0]), 'is_next': tensor(1)}\n"
          ]
        }
      ]
    },
    {
      "cell_type": "markdown",
      "source": [
        "---\n",
        "# Section 3\n",
        "###  Embedding\n",
        "The embedding in BERT comprises of three parts, mainly the\n",
        "\n",
        "**token embeddings**\n",
        "\n",
        "**segment embeddings**\n",
        "\n",
        "**position embeddings**."
      ],
      "metadata": {
        "id": "d5whJ-hoPKpQ"
      }
    },
    {
      "cell_type": "markdown",
      "source": [
        "![embeddings.png](data:image/png;base64,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)"
      ],
      "metadata": {
        "id": "mgsdwKBhPK1T"
      }
    },
    {
      "cell_type": "markdown",
      "source": [
        "![Position_encodding.png](data:image/png;base64,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)"
      ],
      "metadata": {
        "id": "EwjUI36UPK6O"
      }
    },
    {
      "cell_type": "markdown",
      "source": [
        "where\n",
        "\n",
        "* k: Position of an object in input sequence, 0 < k < L/2\n",
        "* d: Dimension of the output embedding space\n",
        "* n: User defined scalar. Default by 10,000\n",
        "* i: Used for mapping to column indices 0 < i < d/2. A single value of i maps to both sine and cosine functions\n",
        "\n",
        "\n",
        "For all three different type of embeddings, they must be in the similar output size (768 in this case), so that all three of them can be summed together to be a single embedded output. You may notice the *padding_idx* is specified as 0, this is to make pad token remains as 0 and not being updated during training."
      ],
      "metadata": {
        "id": "Hkg2jaowQOjI"
      }
    },
    {
      "cell_type": "code",
      "source": [
        "class PositionalEmbedding(torch.nn.Module):\n",
        "\n",
        "    def __init__(self, d_model, max_len=128):\n",
        "        super().__init__()\n",
        "\n",
        "        # Compute the positional encodings once in log space.\n",
        "        pe = torch.zeros(max_len, d_model).float()\n",
        "        pe.require_grad = False\n",
        "\n",
        "        for pos in range(max_len):\n",
        "            # for each dimension of the each position\n",
        "            for i in range(0, d_model, 2):\n",
        "                pe[pos, i] = math.sin(pos / (10000 ** ((2 * i)/d_model)))\n",
        "                pe[pos, i + 1] = math.cos(pos / (10000 ** ((2 * (i + 1))/d_model)))\n",
        "\n",
        "        # include the batch size\n",
        "        self.pe = pe.unsqueeze(0)\n",
        "        # self.register_buffer('pe', pe)\n",
        "\n",
        "    def forward(self, x):\n",
        "        return self.pe\n"
      ],
      "metadata": {
        "id": "UqWObif9PCyE"
      },
      "execution_count": 15,
      "outputs": []
    },
    {
      "cell_type": "markdown",
      "source": [
        "###  Example with dummy record for postional embeddings\n",
        "\n",
        "```python\n",
        "import torch\n",
        "\n",
        "# Define the dimensions\n",
        "d_model = 8  # Let's use a smaller dimension for simplicity\n",
        "max_len = 10  # Maximum length of the sequence\n",
        "\n",
        "# Initialize the PositionalEmbedding\n",
        "positional_embedding = PositionalEmbedding(d_model, max_len)\n",
        "\n",
        "# Print the positional encodings\n",
        "print(positional_embedding.pe)\n",
        "```\n",
        "\n",
        "In this example, we've defined a model dimension (`d_model`) of 8 and a maximum length (`max_len`) of 10. Here’s what’s happening step-by-step:\n",
        "\n",
        "1. **Initialize the PositionalEmbedding Class**\n",
        "   ```python\n",
        "   positional_embedding = PositionalEmbedding(d_model, max_len)\n",
        "   ```\n",
        "\n",
        "2. **Print the Positional Encodings**\n",
        "   ```python\n",
        "   print(positional_embedding.pe)\n",
        "   ```\n",
        "\n",
        "When you run this, you will see a tensor with shape `(1, 10, 8)` filled with the sine and cosine values generated in the `PositionalEmbedding` class. Each row corresponds to a position in the sequence, and each column corresponds to a dimension in the model.\n",
        "\n",
        "Here's a small snippet of what you might see:\n",
        "```python\n",
        "tensor([[[ 0.0000,  1.0000,  0.8415,  0.5403,  0.9093,  0.4161,  0.1411,  0.9900],\n",
        "         [ 0.0998,  0.9950,  0.8618,  0.5078,  0.9166,  0.3993,  0.1489,  0.9888],\n",
        "         [ 0.1987,  0.9801,  0.8820,  0.4755,  0.9230,  0.3823,  0.1564,  0.9876],\n",
        "         ...\n",
        "         [ 0.8415,  0.5403,  0.9093,  0.4161,  0.8415,  0.5403,  0.9093,  0.4161]]])\n",
        "```\n",
        "\n",
        "This is how the positional encodings are structured. The positional embeddings are ready to be added to the input embeddings to provide positional information to a model, like a transformer.\n"
      ],
      "metadata": {
        "id": "EoTGVO0ek8jI"
      }
    },
    {
      "cell_type": "markdown",
      "source": [
        "### Adding all the three embedding together"
      ],
      "metadata": {
        "id": "Auwv8c87lW3o"
      }
    },
    {
      "cell_type": "code",
      "source": [
        "class BERTEmbedding(torch.nn.Module):\n",
        "    \"\"\"\n",
        "    BERT Embedding which is consisted with under features\n",
        "        1. TokenEmbedding : normal embedding matrix\n",
        "        2. PositionalEmbedding : adding positional information using sin, cos\n",
        "        2. SegmentEmbedding : adding sentence segment info, (sent_A:1, sent_B:2)\n",
        "        sum of all these features are output of BERTEmbedding\n",
        "    \"\"\"\n",
        "\n",
        "    def __init__(self, vocab_size, embed_size, seq_len=64, dropout=0.1):\n",
        "        \"\"\"\n",
        "        :param vocab_size: total vocab size\n",
        "        :param embed_size: embedding size of token embedding\n",
        "        :param dropout: dropout rate\n",
        "        \"\"\"\n",
        "\n",
        "        super().__init__()\n",
        "        self.embed_size = embed_size\n",
        "        # (m, seq_len) --> (m, seq_len, embed_size)\n",
        "        # padding_idx is not updated during training, remains as fixed pad (0)\n",
        "        self.token = torch.nn.Embedding(vocab_size, embed_size, padding_idx=0)\n",
        "        self.segment = torch.nn.Embedding(3, embed_size, padding_idx=0)\n",
        "        self.position = PositionalEmbedding(d_model=embed_size, max_len=seq_len)\n",
        "        self.dropout = torch.nn.Dropout(p=dropout)\n",
        "\n",
        "    def forward(self, sequence, segment_label):\n",
        "        x = self.token(sequence) + self.position(sequence) + self.segment(segment_label)\n",
        "        return self.dropout(x)"
      ],
      "metadata": {
        "id": "H8q5uHW9lUjl"
      },
      "execution_count": null,
      "outputs": []
    },
    {
      "cell_type": "markdown",
      "source": [
        "**Multi Head Attention**\n",
        "A basic Transformer consists of an encoder to read the text input and a decoder to produce a prediction for the task. Since BERT’s goal is to generate a language representation model, it only needs the encoder part. The code snippet for Multi-head attention might looks complicated at first sight, but it is just a simple translation from the equation below\n",
        "\n"
      ],
      "metadata": {
        "id": "unSg5JZWRS0g"
      }
    },
    {
      "cell_type": "markdown",
      "source": [
        "![multihead_frmla.png](data:image/png;base64,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)"
      ],
      "metadata": {
        "id": "-3CR4JJURTHx"
      }
    },
    {
      "cell_type": "markdown",
      "source": [
        "where  Q, K, V are identical and linear transformation of input embeddings. The one thing that need more attention is the shape of input tensor, therefore, .permute() function is applied to amend the shape of tensor to fulfil the requirement for dot product."
      ],
      "metadata": {
        "id": "WaF8hoAYRTM9"
      }
    },
    {
      "cell_type": "code",
      "source": [
        "### attention layers\n",
        "class MultiHeadedAttention(torch.nn.Module):\n",
        "\n",
        "    def __init__(self, heads, d_model, dropout=0.1):\n",
        "        super(MultiHeadedAttention, self).__init__()\n",
        "\n",
        "        assert d_model % heads == 0\n",
        "        self.d_k = d_model // heads\n",
        "        self.heads = heads\n",
        "        self.dropout = torch.nn.Dropout(dropout)\n",
        "\n",
        "        self.query = torch.nn.Linear(d_model, d_model)\n",
        "        self.key = torch.nn.Linear(d_model, d_model)\n",
        "        self.value = torch.nn.Linear(d_model, d_model)\n",
        "        self.output_linear = torch.nn.Linear(d_model, d_model)\n",
        "\n",
        "    def forward(self, query, key, value, mask):\n",
        "        \"\"\"\n",
        "        query, key, value of shape: (batch_size, max_len, d_model)\n",
        "        mask of shape: (batch_size, 1, 1, max_words)\n",
        "        \"\"\"\n",
        "        # (batch_size, max_len, d_model)\n",
        "        query = self.query(query)\n",
        "        key = self.key(key)\n",
        "        value = self.value(value)\n",
        "\n",
        "        # (batch_size, max_len, d_model) --> (batch_size, max_len, h, d_k) --> (batch_size, h, max_len, d_k)\n",
        "        query = query.view(query.shape[0], -1, self.heads, self.d_k).permute(0, 2, 1, 3)\n",
        "        key = key.view(key.shape[0], -1, self.heads, self.d_k).permute(0, 2, 1, 3)\n",
        "        value = value.view(value.shape[0], -1, self.heads, self.d_k).permute(0, 2, 1, 3)\n",
        "\n",
        "        # (batch_size, h, max_len, d_k) matmul (batch_size, h, d_k, max_len) --> (batch_size, h, max_len, max_len)\n",
        "        scores = torch.matmul(query, key.permute(0, 1, 3, 2)) / math.sqrt(query.size(-1))\n",
        "\n",
        "        # fill 0 mask with super small number so it wont affect the softmax weight\n",
        "        # (batch_size, h, max_len, max_len)\n",
        "        scores = scores.masked_fill(mask == 0, -1e9)\n",
        "\n",
        "        # (batch_size, h, max_len, max_len)\n",
        "        # softmax to put attention weight for all non-pad tokens\n",
        "        # max_len X max_len matrix of attention\n",
        "        weights = F.softmax(scores, dim=-1)\n",
        "        weights = self.dropout(weights)\n",
        "\n",
        "        # (batch_size, h, max_len, max_len) matmul (batch_size, h, max_len, d_k) --> (batch_size, h, max_len, d_k)\n",
        "        context = torch.matmul(weights, value)\n",
        "\n",
        "        # (batch_size, h, max_len, d_k) --> (batch_size, max_len, h, d_k) --> (batch_size, max_len, d_model)\n",
        "        context = context.permute(0, 2, 1, 3).contiguous().view(context.shape[0], -1, self.heads * self.d_k)\n",
        "\n",
        "        # (batch_size, max_len, d_model)\n",
        "        return self.output_linear(context)\n",
        "\n",
        "class FeedForward(torch.nn.Module):\n",
        "    \"Implements FFN equation.\"\n",
        "\n",
        "    def __init__(self, d_model, middle_dim=2048, dropout=0.1):\n",
        "        super(FeedForward, self).__init__()\n",
        "\n",
        "        self.fc1 = torch.nn.Linear(d_model, middle_dim)\n",
        "        self.fc2 = torch.nn.Linear(middle_dim, d_model)\n",
        "        self.dropout = torch.nn.Dropout(dropout)\n",
        "        self.activation = torch.nn.GELU()\n",
        "\n",
        "    def forward(self, x):\n",
        "        out = self.activation(self.fc1(x))\n",
        "        out = self.fc2(self.dropout(out))\n",
        "        return out\n",
        "\n",
        "class EncoderLayer(torch.nn.Module):\n",
        "    def __init__(\n",
        "        self,\n",
        "        d_model=768,\n",
        "        heads=12,\n",
        "        feed_forward_hidden=768 * 4,\n",
        "        dropout=0.1\n",
        "        ):\n",
        "        super(EncoderLayer, self).__init__()\n",
        "        self.layernorm = torch.nn.LayerNorm(d_model)\n",
        "        self.self_multihead = MultiHeadedAttention(heads, d_model)\n",
        "        self.feed_forward = FeedForward(d_model, middle_dim=feed_forward_hidden)\n",
        "        self.dropout = torch.nn.Dropout(dropout)\n",
        "\n",
        "    def forward(self, embeddings, mask):\n",
        "        # embeddings: (batch_size, max_len, d_model)\n",
        "        # encoder mask: (batch_size, 1, 1, max_len)\n",
        "        # result: (batch_size, max_len, d_model)\n",
        "        interacted = self.dropout(self.self_multihead(embeddings, embeddings, embeddings, mask))\n",
        "        # residual layer\n",
        "        interacted = self.layernorm(interacted + embeddings)\n",
        "        # bottleneck\n",
        "        feed_forward_out = self.dropout(self.feed_forward(interacted))\n",
        "        encoded = self.layernorm(feed_forward_out + interacted)\n",
        "        return encoded"
      ],
      "metadata": {
        "id": "RSMeVSKjRQsJ"
      },
      "execution_count": 16,
      "outputs": []
    },
    {
      "cell_type": "markdown",
      "source": [
        "The details of the class MultiHeadedAttention\n",
        "\n",
        "**Working  -->**\n",
        "\n",
        "It’s called multi-head attention because the hidden size: d_model(768) is split by heads(12), this allows the model to jointly attend to information at different positions from different representational spaces.\n",
        "\n",
        "It takes the query, key, and value as inputs, and the size is permuted from\n",
        "\n",
        "(batch_size, max_len, hidden_size) → (batch_size, num_heads, max_len, hidden_size / num_heads ).\n",
        "\n",
        "This indicates that all the 3 inpurs are linearly projected from the d_model dimensional space to heads sets of d_k dimensional vectors.\n",
        "\n",
        "Attention score matrix is computed using matrix multiplication between the query(Q) and key(K) tensors, followed by scaling by the square root of the key tensor’s dimension\n",
        "\n",
        "The mask is applied to the attention matrix and filled with -1e9 (close to negative infinity). This is done because the large negative inputs to softmax are near zero in the output.\n",
        "\n",
        "The final output is a weighted sum of the value(V) tensors, where the weights are determined by the softmax of the scaled dot-product between the query and key vectors."
      ],
      "metadata": {
        "id": "Qs5wzJ0IRw4O"
      }
    },
    {
      "cell_type": "markdown",
      "source": [
        "The EncoderLayer class contains 2 sublayers:.\n",
        "\n",
        "***MultiHeadedAttention:*** A multi-headed self-attention module that computes the attention weights between each element in the input sequence\n",
        "\n",
        "\n",
        "**FeedForward:** A feedforward network with one hidden layer that applies a non-linear activation function (GELU) to the output of the first linear layer and produces a d_model dimensional output.\n",
        "\n",
        "\n",
        "Each of these sublayers has a residual connection around it followed by a layer normalization LayerNorm(x + Sublayer(x)). Residual connections help in avoiding the vanishing gradient problem in deep networks.\n",
        "\n"
      ],
      "metadata": {
        "id": "I_hKpwrMSEpZ"
      }
    },
    {
      "cell_type": "code",
      "source": [
        "class BERT(torch.nn.Module):\n",
        "    \"\"\"\n",
        "    BERT model : Bidirectional Encoder Representations from Transformers.\n",
        "    \"\"\"\n",
        "\n",
        "    def __init__(self, vocab_size, d_model=768, n_layers=12, heads=12, dropout=0.1):\n",
        "        \"\"\"\n",
        "        :param vocab_size: vocab_size of total words\n",
        "        :param hidden: BERT model hidden size\n",
        "        :param n_layers: numbers of Transformer blocks(layers)\n",
        "        :param attn_heads: number of attention heads\n",
        "        :param dropout: dropout rate\n",
        "        \"\"\"\n",
        "\n",
        "        super().__init__()\n",
        "        self.d_model = d_model\n",
        "        self.n_layers = n_layers\n",
        "        self.heads = heads\n",
        "\n",
        "        # paper noted they used 4 * hidden_size for ff_network_hidden_size\n",
        "        self.feed_forward_hidden = d_model * 4\n",
        "\n",
        "        # embedding for BERT, sum of positional, segment, token embeddings\n",
        "        self.embedding = BERTEmbedding(vocab_size=vocab_size, embed_size=d_model)\n",
        "\n",
        "        # multi-layers transformer blocks, deep network\n",
        "        self.encoder_blocks = torch.nn.ModuleList(\n",
        "            [EncoderLayer(d_model, heads, d_model * 4, dropout) for _ in range(n_layers)])\n",
        "\n",
        "    def forward(self, x, segment_info):\n",
        "        # attention masking for padded token\n",
        "        # (batch_size, 1, seq_len, seq_len)\n",
        "        mask = (x > 0).unsqueeze(1).repeat(1, x.size(1), 1).unsqueeze(1)\n",
        "\n",
        "        # embedding the indexed sequence to sequence of vectors\n",
        "        x = self.embedding(x, segment_info)\n",
        "\n",
        "        # running over multiple transformer blocks\n",
        "        for encoder in self.encoder_blocks:\n",
        "            x = encoder.forward(x, mask)\n",
        "        return x\n",
        "\n",
        "class NextSentencePrediction(torch.nn.Module):\n",
        "    \"\"\"\n",
        "    2-class classification model : is_next, is_not_next\n",
        "    \"\"\"\n",
        "\n",
        "    def __init__(self, hidden):\n",
        "        \"\"\"\n",
        "        :param hidden: BERT model output size\n",
        "        \"\"\"\n",
        "        super().__init__()\n",
        "        self.linear = torch.nn.Linear(hidden, 2)\n",
        "        self.softmax = torch.nn.LogSoftmax(dim=-1)\n",
        "\n",
        "    def forward(self, x):\n",
        "        # use only the first token which is the [CLS]\n",
        "        return self.softmax(self.linear(x[:, 0]))\n",
        "\n",
        "class MaskedLanguageModel(torch.nn.Module):\n",
        "    \"\"\"\n",
        "    predicting origin token from masked input sequence\n",
        "    n-class classification problem, n-class = vocab_size\n",
        "    \"\"\"\n",
        "\n",
        "    def __init__(self, hidden, vocab_size):\n",
        "        \"\"\"\n",
        "        :param hidden: output size of BERT model\n",
        "        :param vocab_size: total vocab size\n",
        "        \"\"\"\n",
        "        super().__init__()\n",
        "        self.linear = torch.nn.Linear(hidden, vocab_size)\n",
        "        self.softmax = torch.nn.LogSoftmax(dim=-1)\n",
        "\n",
        "    def forward(self, x):\n",
        "        return self.softmax(self.linear(x))\n",
        "\n",
        "class BERTLM(torch.nn.Module):\n",
        "    \"\"\"\n",
        "    BERT Language Model\n",
        "    Next Sentence Prediction Model + Masked Language Model\n",
        "    \"\"\"\n",
        "\n",
        "    def __init__(self, bert: BERT, vocab_size):\n",
        "        \"\"\"\n",
        "        :param bert: BERT model which should be trained\n",
        "        :param vocab_size: total vocab size for masked_lm\n",
        "        \"\"\"\n",
        "\n",
        "        super().__init__()\n",
        "        self.bert = bert\n",
        "        self.next_sentence = NextSentencePrediction(self.bert.d_model)\n",
        "        self.mask_lm = MaskedLanguageModel(self.bert.d_model, vocab_size)\n",
        "\n",
        "    def forward(self, x, segment_label):\n",
        "        x = self.bert(x, segment_label)\n",
        "        return self.next_sentence(x), self.mask_lm(x)"
      ],
      "metadata": {
        "id": "M20D2qc9TKo0"
      },
      "execution_count": 17,
      "outputs": []
    },
    {
      "cell_type": "markdown",
      "source": [
        "The BERT class initializes the embedding layer for the input sequence, as well as multi layers of EncoderLayer blocks. The forward method of this class takes in the input sequence and a segment info tensor, applies attention masking to the input(for padded token), embeds the input sequence, and then passes it through the encoder blocks to obtain the output.\n",
        "\n",
        "The NextSentencePrediction class is a 2-class classification model that takes in the output of the BERT class and predicts whether the input sequence contains two consecutive sentences or not. The forward method applies applies linear transformation and log softmax function to obtain the predicted probabilities of the two classes.\n",
        "\n",
        "\n",
        "The MaskedLanguageModel class is a multi-class classification model that takes in the output of the BERT class and predicts the original tokens for the masked input sequence. The forward method applies a linear transformation and log softmax function to obtain the predicted probabilities of each token in the vocabulary.\n",
        "\n",
        "**2 things together**\n",
        "\n",
        "The BERTLM class combines the BERT, NextSentencePrediction, and MaskedLanguageModel classes to create a complete BERT language model."
      ],
      "metadata": {
        "id": "d8i-XJX_TSbc"
      }
    },
    {
      "cell_type": "markdown",
      "source": [
        "Optimizer\n",
        "The original BERT model was trained using Adam optimizer with a custom learning rate scheduler according to the formula in the paper.\n",
        "\n"
      ],
      "metadata": {
        "id": "ZLWuLu_ZTc8d"
      }
    },
    {
      "cell_type": "markdown",
      "source": [],
      "metadata": {
        "id": "U66nhK4VTeaW"
      }
    },
    {
      "cell_type": "code",
      "source": [
        "class ScheduledOptim():\n",
        "    '''A simple wrapper class for learning rate scheduling'''\n",
        "\n",
        "    def __init__(self, optimizer, d_model, n_warmup_steps):\n",
        "        self._optimizer = optimizer\n",
        "        self.n_warmup_steps = n_warmup_steps\n",
        "        self.n_current_steps = 0\n",
        "        self.init_lr = np.power(d_model, -0.5)\n",
        "\n",
        "    def step_and_update_lr(self):\n",
        "        \"Step with the inner optimizer\"\n",
        "        self._update_learning_rate()\n",
        "        self._optimizer.step()\n",
        "\n",
        "    def zero_grad(self):\n",
        "        \"Zero out the gradients by the inner optimizer\"\n",
        "        self._optimizer.zero_grad()\n",
        "\n",
        "    def _get_lr_scale(self):\n",
        "        return np.min([\n",
        "            np.power(self.n_current_steps, -0.5),\n",
        "            np.power(self.n_warmup_steps, -1.5) * self.n_current_steps])\n",
        "\n",
        "    def _update_learning_rate(self):\n",
        "        ''' Learning rate scheduling per step '''\n",
        "\n",
        "        self.n_current_steps += 1\n",
        "        lr = self.init_lr * self._get_lr_scale()\n",
        "\n",
        "        for param_group in self._optimizer.param_groups:\n",
        "            param_group['lr'] = lr"
      ],
      "metadata": {
        "id": "PXJ2DxCyTmtl"
      },
      "execution_count": 18,
      "outputs": []
    },
    {
      "cell_type": "markdown",
      "source": [
        "**# Final Bert Model**"
      ],
      "metadata": {
        "id": "RKsBoTJ9VDSZ"
      }
    },
    {
      "cell_type": "code",
      "source": [
        "class BERTTrainer:\n",
        "    def __init__(\n",
        "        self,\n",
        "        model,\n",
        "        train_dataloader,\n",
        "        test_dataloader=None,\n",
        "        lr= 1e-4,\n",
        "        weight_decay=0.01,\n",
        "        betas=(0.9, 0.999),\n",
        "        warmup_steps=10000,\n",
        "        log_freq=10,\n",
        "        device='cuda'\n",
        "        ):\n",
        "\n",
        "        self.device = device\n",
        "        self.model = model\n",
        "        self.train_data = train_dataloader\n",
        "        self.test_data = test_dataloader\n",
        "\n",
        "        # Setting the Adam optimizer with hyper-param\n",
        "        self.optim = Adam(self.model.parameters(), lr=lr, betas=betas, weight_decay=weight_decay)\n",
        "        self.optim_schedule = ScheduledOptim(\n",
        "            self.optim, self.model.bert.d_model, n_warmup_steps=warmup_steps\n",
        "            )\n",
        "\n",
        "        # Using Negative Log Likelihood Loss function for predicting the masked_token\n",
        "        self.criterion = torch.nn.NLLLoss(ignore_index=0)\n",
        "        self.log_freq = log_freq\n",
        "        print(\"Total Parameters:\", sum([p.nelement() for p in self.model.parameters()]))\n",
        "\n",
        "    def train(self, epoch):\n",
        "        self.iteration(epoch, self.train_data)\n",
        "\n",
        "    def test(self, epoch):\n",
        "        self.iteration(epoch, self.test_data, train=False)\n",
        "\n",
        "    def iteration(self, epoch, data_loader, train=True):\n",
        "\n",
        "        avg_loss = 0.0\n",
        "        total_correct = 0\n",
        "        total_element = 0\n",
        "\n",
        "        mode = \"train\" if train else \"test\"\n",
        "\n",
        "        # progress bar\n",
        "        data_iter = tqdm.tqdm(\n",
        "            enumerate(data_loader),\n",
        "            desc=\"EP_%s:%d\" % (mode, epoch),\n",
        "            total=len(data_loader),\n",
        "            bar_format=\"{l_bar}{r_bar}\"\n",
        "        )\n",
        "\n",
        "        for i, data in data_iter:\n",
        "\n",
        "            # 0. batch_data will be sent into the device(GPU or cpu)\n",
        "            data = {key: value.to(self.device) for key, value in data.items()}\n",
        "\n",
        "            # 1. forward the next_sentence_prediction and masked_lm model\n",
        "            next_sent_output, mask_lm_output = self.model.forward(data[\"bert_input\"], data[\"segment_label\"])\n",
        "\n",
        "            # 2-1. NLL(negative log likelihood) loss of is_next classification result\n",
        "            next_loss = self.criterion(next_sent_output, data[\"is_next\"])\n",
        "\n",
        "            # 2-2. NLLLoss of predicting masked token word\n",
        "            # transpose to (m, vocab_size, seq_len) vs (m, seq_len)\n",
        "            # criterion(mask_lm_output.view(-1, mask_lm_output.size(-1)), data[\"bert_label\"].view(-1))\n",
        "            mask_loss = self.criterion(mask_lm_output.transpose(1, 2), data[\"bert_label\"])\n",
        "\n",
        "            # 2-3. Adding next_loss and mask_loss : 3.4 Pre-training Procedure\n",
        "            loss = next_loss + mask_loss\n",
        "\n",
        "            # 3. backward and optimization only in train\n",
        "            if train:\n",
        "                self.optim_schedule.zero_grad()\n",
        "                loss.backward()\n",
        "                self.optim_schedule.step_and_update_lr()\n",
        "\n",
        "            # next sentence prediction accuracy\n",
        "            correct = next_sent_output.argmax(dim=-1).eq(data[\"is_next\"]).sum().item()\n",
        "            avg_loss += loss.item()\n",
        "            total_correct += correct\n",
        "            total_element += data[\"is_next\"].nelement()\n",
        "\n",
        "            post_fix = {\n",
        "                \"epoch\": epoch,\n",
        "                \"iter\": i,\n",
        "                \"avg_loss\": avg_loss / (i + 1),\n",
        "                \"avg_acc\": total_correct / total_element * 100,\n",
        "                \"loss\": loss.item()\n",
        "            }\n",
        "\n",
        "            if i % self.log_freq == 0:\n",
        "                data_iter.write(str(post_fix))\n",
        "        print(\n",
        "            f\"EP{epoch}, {mode}: \\\n",
        "            avg_loss={avg_loss / len(data_iter)}, \\\n",
        "            total_acc={total_correct * 100.0 / total_element}\"\n",
        "        )"
      ],
      "metadata": {
        "id": "tisAplGgU_iT"
      },
      "execution_count": 21,
      "outputs": []
    },
    {
      "cell_type": "code",
      "source": [],
      "metadata": {
        "id": "VAeXJZhjXVu4"
      },
      "execution_count": null,
      "outputs": []
    },
    {
      "cell_type": "code",
      "source": [
        "'''test run'''\n",
        "\n",
        "train_data = BERTDataset(\n",
        "   pairs, seq_len=MAX_LEN, tokenizer=tokenizer)\n",
        "\n",
        "train_loader = DataLoader(\n",
        "   train_data, batch_size=32, shuffle=True, pin_memory=True)\n",
        "\n",
        "bert_model = BERT(\n",
        "  vocab_size=len(tokenizer.vocab),\n",
        "  d_model=768,\n",
        "  n_layers=2,\n",
        "  heads=12,\n",
        "  dropout=0.1\n",
        ")\n",
        "\n",
        "bert_lm = BERTLM(bert_model, len(tokenizer.vocab))\n",
        "bert_trainer = BERTTrainer(bert_lm, train_loader, device='cpu')\n",
        "epochs = 20\n",
        "\n",
        "for epoch in range(epochs):\n",
        "  bert_trainer.train(epoch)"
      ],
      "metadata": {
        "colab": {
          "base_uri": "https://localhost:8080/"
        },
        "id": "lCkl6MrpXLf1",
        "outputId": "008a7b66-e306-45f2-a8ce-9c7047312a46"
      },
      "execution_count": null,
      "outputs": [
        {
          "metadata": {
            "tags": null
          },
          "name": "stdout",
          "output_type": "stream",
          "text": [
            "Total Parameters: 46699434\n"
          ]
        },
        {
          "metadata": {
            "tags": null
          },
          "name": "stderr",
          "output_type": "stream",
          "text": [
            "EP_train:0:   0%|| 1/6926 [00:05<9:58:35,  5.19s/it]"
          ]
        },
        {
          "metadata": {
            "tags": null
          },
          "name": "stdout",
          "output_type": "stream",
          "text": [
            "{'epoch': 0, 'iter': 0, 'avg_loss': 10.725237846374512, 'avg_acc': 62.5, 'loss': 10.725237846374512}\n"
          ]
        },
        {
          "metadata": {
            "tags": null
          },
          "name": "stderr",
          "output_type": "stream",
          "text": [
            "EP_train:0:   0%|| 11/6926 [00:52<9:04:11,  4.72s/it]"
          ]
        },
        {
          "metadata": {
            "tags": null
          },
          "name": "stdout",
          "output_type": "stream",
          "text": [
            "{'epoch': 0, 'iter': 10, 'avg_loss': 10.732085054570978, 'avg_acc': 53.125, 'loss': 10.779537200927734}\n"
          ]
        },
        {
          "metadata": {
            "tags": null
          },
          "name": "stderr",
          "output_type": "stream",
          "text": [
            "EP_train:0:   0%|| 21/6926 [01:39<8:54:03,  4.64s/it]"
          ]
        },
        {
          "metadata": {
            "tags": null
          },
          "name": "stdout",
          "output_type": "stream",
          "text": [
            "{'epoch': 0, 'iter': 20, 'avg_loss': 10.681981495448522, 'avg_acc': 52.083333333333336, 'loss': 10.550106048583984}\n"
          ]
        },
        {
          "metadata": {
            "tags": null
          },
          "name": "stderr",
          "output_type": "stream",
          "text": [
            "EP_train:0:   0%|| 31/6926 [02:27<9:15:00,  4.83s/it]"
          ]
        },
        {
          "metadata": {
            "tags": null
          },
          "name": "stdout",
          "output_type": "stream",
          "text": [
            "{'epoch': 0, 'iter': 30, 'avg_loss': 10.637212414895334, 'avg_acc': 50.0, 'loss': 10.560635566711426}\n"
          ]
        },
        {
          "metadata": {
            "tags": null
          },
          "name": "stderr",
          "output_type": "stream",
          "text": [
            "EP_train:0:   1%|| 41/6926 [03:14<8:44:29,  4.57s/it]"
          ]
        },
        {
          "metadata": {
            "tags": null
          },
          "name": "stdout",
          "output_type": "stream",
          "text": [
            "{'epoch': 0, 'iter': 40, 'avg_loss': 10.581550505103134, 'avg_acc': 50.762195121951216, 'loss': 10.24746322631836}\n"
          ]
        },
        {
          "metadata": {
            "tags": null
          },
          "name": "stderr",
          "output_type": "stream",
          "text": [
            "EP_train:0:   1%|| 51/6926 [04:02<9:20:16,  4.89s/it]"
          ]
        },
        {
          "metadata": {
            "tags": null
          },
          "name": "stdout",
          "output_type": "stream",
          "text": [
            "{'epoch': 0, 'iter': 50, 'avg_loss': 10.520871779497933, 'avg_acc': 50.91911764705882, 'loss': 10.296063423156738}\n"
          ]
        },
        {
          "metadata": {
            "tags": null
          },
          "name": "stderr",
          "output_type": "stream",
          "text": [
            "EP_train:0:   1%|| 61/6926 [04:49<8:53:15,  4.66s/it]"
          ]
        },
        {
          "metadata": {
            "tags": null
          },
          "name": "stdout",
          "output_type": "stream",
          "text": [
            "{'epoch': 0, 'iter': 60, 'avg_loss': 10.461270926428623, 'avg_acc': 50.56352459016394, 'loss': 10.122633934020996}\n"
          ]
        },
        {
          "metadata": {
            "tags": null
          },
          "name": "stderr",
          "output_type": "stream",
          "text": [
            "EP_train:0:   1%|| 71/6926 [05:37<9:19:51,  4.90s/it]"
          ]
        },
        {
          "metadata": {
            "tags": null
          },
          "name": "stdout",
          "output_type": "stream",
          "text": [
            "{'epoch': 0, 'iter': 70, 'avg_loss': 10.409375929496658, 'avg_acc': 50.220070422535215, 'loss': 10.060079574584961}\n"
          ]
        },
        {
          "metadata": {
            "tags": null
          },
          "name": "stderr",
          "output_type": "stream",
          "text": [
            "EP_train:0:   1%|| 81/6926 [06:24<8:48:42,  4.63s/it]"
          ]
        },
        {
          "metadata": {
            "tags": null
          },
          "name": "stdout",
          "output_type": "stream",
          "text": [
            "{'epoch': 0, 'iter': 80, 'avg_loss': 10.358672813132957, 'avg_acc': 50.1929012345679, 'loss': 9.980701446533203}\n"
          ]
        },
        {
          "metadata": {
            "tags": null
          },
          "name": "stderr",
          "output_type": "stream",
          "text": [
            "EP_train:0:   1%|| 91/6926 [07:11<9:04:02,  4.78s/it]"
          ]
        },
        {
          "metadata": {
            "tags": null
          },
          "name": "stdout",
          "output_type": "stream",
          "text": [
            "{'epoch': 0, 'iter': 90, 'avg_loss': 10.309691460577996, 'avg_acc': 49.8282967032967, 'loss': 9.756086349487305}\n"
          ]
        },
        {
          "metadata": {
            "tags": null
          },
          "name": "stderr",
          "output_type": "stream",
          "text": [
            "EP_train:0:   1%|| 101/6926 [07:58<8:48:59,  4.65s/it]"
          ]
        },
        {
          "metadata": {
            "tags": null
          },
          "name": "stdout",
          "output_type": "stream",
          "text": [
            "{'epoch': 0, 'iter': 100, 'avg_loss': 10.260593187690962, 'avg_acc': 49.90717821782179, 'loss': 9.688912391662598}\n"
          ]
        },
        {
          "metadata": {
            "tags": null
          },
          "name": "stderr",
          "output_type": "stream",
          "text": [
            "EP_train:0:   2%|| 111/6926 [08:44<8:34:33,  4.53s/it]"
          ]
        },
        {
          "metadata": {
            "tags": null
          },
          "name": "stdout",
          "output_type": "stream",
          "text": [
            "{'epoch': 0, 'iter': 110, 'avg_loss': 10.211258475844925, 'avg_acc': 50.56306306306306, 'loss': 9.64466381072998}\n"
          ]
        },
        {
          "metadata": {
            "tags": null
          },
          "name": "stderr",
          "output_type": "stream",
          "text": [
            "EP_train:0:   2%|| 121/6926 [09:32<9:04:14,  4.80s/it]"
          ]
        },
        {
          "metadata": {
            "tags": null
          },
          "name": "stdout",
          "output_type": "stream",
          "text": [
            "{'epoch': 0, 'iter': 120, 'avg_loss': 10.161334510677117, 'avg_acc': 50.361570247933884, 'loss': 9.682820320129395}\n"
          ]
        },
        {
          "metadata": {
            "tags": null
          },
          "name": "stderr",
          "output_type": "stream",
          "text": [
            "EP_train:0:   2%|| 131/6926 [10:19<8:47:48,  4.66s/it]"
          ]
        },
        {
          "metadata": {
            "tags": null
          },
          "name": "stdout",
          "output_type": "stream",
          "text": [
            "{'epoch': 0, 'iter': 130, 'avg_loss': 10.106406044414026, 'avg_acc': 50.166984732824424, 'loss': 9.301230430603027}\n"
          ]
        },
        {
          "metadata": {
            "tags": null
          },
          "name": "stderr",
          "output_type": "stream",
          "text": [
            "EP_train:0:   2%|| 141/6926 [11:07<9:09:14,  4.86s/it]"
          ]
        },
        {
          "metadata": {
            "tags": null
          },
          "name": "stdout",
          "output_type": "stream",
          "text": [
            "{'epoch': 0, 'iter': 140, 'avg_loss': 10.051970955327892, 'avg_acc': 50.13297872340425, 'loss': 9.050758361816406}\n"
          ]
        },
        {
          "metadata": {
            "tags": null
          },
          "name": "stderr",
          "output_type": "stream",
          "text": [
            "EP_train:0:   2%|| 151/6926 [11:54<8:40:30,  4.61s/it]"
          ]
        },
        {
          "metadata": {
            "tags": null
          },
          "name": "stdout",
          "output_type": "stream",
          "text": [
            "{'epoch': 0, 'iter': 150, 'avg_loss': 9.994670526870829, 'avg_acc': 50.16556291390728, 'loss': 9.143707275390625}\n"
          ]
        },
        {
          "metadata": {
            "tags": null
          },
          "name": "stderr",
          "output_type": "stream",
          "text": [
            "EP_train:0:   2%|| 161/6926 [12:43<9:07:16,  4.85s/it]"
          ]
        },
        {
          "metadata": {
            "tags": null
          },
          "name": "stdout",
          "output_type": "stream",
          "text": [
            "{'epoch': 0, 'iter': 160, 'avg_loss': 9.935993425594354, 'avg_acc': 50.11645962732919, 'loss': 9.071687698364258}\n"
          ]
        },
        {
          "metadata": {
            "tags": null
          },
          "name": "stderr",
          "output_type": "stream",
          "text": [
            "EP_train:0:   2%|| 171/6926 [13:30<8:38:36,  4.61s/it]"
          ]
        },
        {
          "metadata": {
            "tags": null
          },
          "name": "stdout",
          "output_type": "stream",
          "text": [
            "{'epoch': 0, 'iter': 170, 'avg_loss': 9.880484642341123, 'avg_acc': 50.21929824561403, 'loss': 8.889772415161133}\n"
          ]
        },
        {
          "metadata": {
            "tags": null
          },
          "name": "stderr",
          "output_type": "stream",
          "text": [
            "EP_train:0:   3%|| 181/6926 [14:18<9:10:25,  4.90s/it]"
          ]
        },
        {
          "metadata": {
            "tags": null
          },
          "name": "stdout",
          "output_type": "stream",
          "text": [
            "{'epoch': 0, 'iter': 180, 'avg_loss': 9.822810157227911, 'avg_acc': 49.982734806629836, 'loss': 8.997735023498535}\n"
          ]
        },
        {
          "metadata": {
            "tags": null
          },
          "name": "stderr",
          "output_type": "stream",
          "text": [
            "EP_train:0:   3%|| 191/6926 [15:05<8:41:04,  4.64s/it]"
          ]
        },
        {
          "metadata": {
            "tags": null
          },
          "name": "stdout",
          "output_type": "stream",
          "text": [
            "{'epoch': 0, 'iter': 190, 'avg_loss': 9.762258374878249, 'avg_acc': 50.14725130890052, 'loss': 8.754731178283691}\n"
          ]
        },
        {
          "metadata": {
            "tags": null
          },
          "name": "stderr",
          "output_type": "stream",
          "text": [
            "EP_train:0:   3%|| 201/6926 [15:54<9:06:50,  4.88s/it]"
          ]
        },
        {
          "metadata": {
            "tags": null
          },
          "name": "stdout",
          "output_type": "stream",
          "text": [
            "{'epoch': 0, 'iter': 200, 'avg_loss': 9.69866794377417, 'avg_acc': 50.13992537313433, 'loss': 8.524321556091309}\n"
          ]
        },
        {
          "metadata": {
            "tags": null
          },
          "name": "stderr",
          "output_type": "stream",
          "text": [
            "EP_train:0:   3%|| 211/6926 [16:43<9:34:18,  5.13s/it]"
          ]
        },
        {
          "metadata": {
            "tags": null
          },
          "name": "stdout",
          "output_type": "stream",
          "text": [
            "{'epoch': 0, 'iter': 210, 'avg_loss': 9.636911328934945, 'avg_acc': 50.11848341232228, 'loss': 8.298604965209961}\n"
          ]
        },
        {
          "metadata": {
            "tags": null
          },
          "name": "stderr",
          "output_type": "stream",
          "text": [
            "EP_train:0:   3%|| 221/6926 [17:34<8:57:16,  4.81s/it]"
          ]
        },
        {
          "metadata": {
            "tags": null
          },
          "name": "stdout",
          "output_type": "stream",
          "text": [
            "{'epoch': 0, 'iter': 220, 'avg_loss': 9.57492869148427, 'avg_acc': 50.24038461538461, 'loss': 8.387935638427734}\n"
          ]
        },
        {
          "metadata": {
            "tags": null
          },
          "name": "stderr",
          "output_type": "stream",
          "text": [
            "EP_train:0:   3%|| 231/6926 [18:21<8:53:45,  4.78s/it]"
          ]
        },
        {
          "metadata": {
            "tags": null
          },
          "name": "stdout",
          "output_type": "stream",
          "text": [
            "{'epoch': 0, 'iter': 230, 'avg_loss': 9.520799065049076, 'avg_acc': 50.17586580086581, 'loss': 8.08670425415039}\n"
          ]
        },
        {
          "metadata": {
            "tags": null
          },
          "name": "stderr",
          "output_type": "stream",
          "text": [
            "EP_train:0:   3%|| 241/6926 [19:09<8:43:25,  4.70s/it]"
          ]
        },
        {
          "metadata": {
            "tags": null
          },
          "name": "stdout",
          "output_type": "stream",
          "text": [
            "{'epoch': 0, 'iter': 240, 'avg_loss': 9.462493629376423, 'avg_acc': 50.11670124481328, 'loss': 8.505884170532227}\n"
          ]
        },
        {
          "metadata": {
            "tags": null
          },
          "name": "stderr",
          "output_type": "stream",
          "text": [
            "EP_train:0:   4%|| 251/6926 [19:56<8:42:06,  4.69s/it]"
          ]
        },
        {
          "metadata": {
            "tags": null
          },
          "name": "stdout",
          "output_type": "stream",
          "text": [
            "{'epoch': 0, 'iter': 250, 'avg_loss': 9.409444979937428, 'avg_acc': 50.02490039840638, 'loss': 8.061911582946777}\n"
          ]
        },
        {
          "metadata": {
            "tags": null
          },
          "name": "stderr",
          "output_type": "stream",
          "text": [
            "EP_train:0:   4%|| 261/6926 [20:45<8:53:24,  4.80s/it]"
          ]
        },
        {
          "metadata": {
            "tags": null
          },
          "name": "stdout",
          "output_type": "stream",
          "text": [
            "{'epoch': 0, 'iter': 260, 'avg_loss': 9.355692558361653, 'avg_acc': 50.10775862068966, 'loss': 8.010580062866211}\n"
          ]
        },
        {
          "metadata": {
            "tags": null
          },
          "name": "stderr",
          "output_type": "stream",
          "text": [
            "EP_train:0:   4%|| 271/6926 [21:32<8:38:28,  4.67s/it]"
          ]
        },
        {
          "metadata": {
            "tags": null
          },
          "name": "stdout",
          "output_type": "stream",
          "text": [
            "{'epoch': 0, 'iter': 270, 'avg_loss': 9.301194461949198, 'avg_acc': 50.31134686346863, 'loss': 8.248373031616211}\n"
          ]
        },
        {
          "metadata": {
            "tags": null
          },
          "name": "stderr",
          "output_type": "stream",
          "text": [
            "EP_train:0:   4%|| 281/6926 [22:21<8:58:42,  4.86s/it]"
          ]
        },
        {
          "metadata": {
            "tags": null
          },
          "name": "stdout",
          "output_type": "stream",
          "text": [
            "{'epoch': 0, 'iter': 280, 'avg_loss': 9.253448869834166, 'avg_acc': 50.08896797153025, 'loss': 8.517143249511719}\n"
          ]
        },
        {
          "metadata": {
            "tags": null
          },
          "name": "stderr",
          "output_type": "stream",
          "text": [
            "EP_train:0:   4%|| 291/6926 [23:10<8:55:31,  4.84s/it]"
          ]
        },
        {
          "metadata": {
            "tags": null
          },
          "name": "stdout",
          "output_type": "stream",
          "text": [
            "{'epoch': 0, 'iter': 290, 'avg_loss': 9.209023855805807, 'avg_acc': 50.2147766323024, 'loss': 7.804408073425293}\n"
          ]
        },
        {
          "metadata": {
            "tags": null
          },
          "name": "stderr",
          "output_type": "stream",
          "text": [
            "EP_train:0:   4%|| 301/6926 [23:57<8:40:45,  4.72s/it]"
          ]
        },
        {
          "metadata": {
            "tags": null
          },
          "name": "stdout",
          "output_type": "stream",
          "text": [
            "{'epoch': 0, 'iter': 300, 'avg_loss': 9.159095241381877, 'avg_acc': 50.19725913621262, 'loss': 7.576201438903809}\n"
          ]
        },
        {
          "metadata": {
            "tags": null
          },
          "name": "stderr",
          "output_type": "stream",
          "text": [
            "EP_train:0:   4%|| 311/6926 [24:45<8:37:45,  4.70s/it]"
          ]
        },
        {
          "metadata": {
            "tags": null
          },
          "name": "stdout",
          "output_type": "stream",
          "text": [
            "{'epoch': 0, 'iter': 310, 'avg_loss': 9.11647438773005, 'avg_acc': 50.05024115755627, 'loss': 7.824701309204102}\n"
          ]
        },
        {
          "metadata": {
            "tags": null
          },
          "name": "stderr",
          "output_type": "stream",
          "text": [
            "EP_train:0:   5%|| 321/6926 [25:33<8:48:44,  4.80s/it]"
          ]
        },
        {
          "metadata": {
            "tags": null
          },
          "name": "stdout",
          "output_type": "stream",
          "text": [
            "{'epoch': 0, 'iter': 320, 'avg_loss': 9.075516066447225, 'avg_acc': 50.09735202492212, 'loss': 7.787777423858643}\n"
          ]
        },
        {
          "metadata": {
            "tags": null
          },
          "name": "stderr",
          "output_type": "stream",
          "text": [
            "EP_train:0:   5%|| 331/6926 [26:20<8:26:50,  4.61s/it]"
          ]
        },
        {
          "metadata": {
            "tags": null
          },
          "name": "stdout",
          "output_type": "stream",
          "text": [
            "{'epoch': 0, 'iter': 330, 'avg_loss': 9.031157855180815, 'avg_acc': 50.05664652567976, 'loss': 7.540090560913086}\n"
          ]
        },
        {
          "metadata": {
            "tags": null
          },
          "name": "stderr",
          "output_type": "stream",
          "text": [
            "EP_train:0:   5%|| 341/6926 [27:08<8:53:14,  4.86s/it]"
          ]
        },
        {
          "metadata": {
            "tags": null
          },
          "name": "stdout",
          "output_type": "stream",
          "text": [
            "{'epoch': 0, 'iter': 340, 'avg_loss': 8.987673106431261, 'avg_acc': 49.9266862170088, 'loss': 7.300452709197998}\n"
          ]
        },
        {
          "metadata": {
            "tags": null
          },
          "name": "stderr",
          "output_type": "stream",
          "text": [
            "EP_train:0:   5%|| 351/6926 [27:55<8:30:08,  4.66s/it]"
          ]
        },
        {
          "metadata": {
            "tags": null
          },
          "name": "stdout",
          "output_type": "stream",
          "text": [
            "{'epoch': 0, 'iter': 350, 'avg_loss': 8.945654087936097, 'avg_acc': 49.85754985754986, 'loss': 7.529305934906006}\n"
          ]
        },
        {
          "metadata": {
            "tags": null
          },
          "name": "stderr",
          "output_type": "stream",
          "text": [
            "EP_train:0:   5%|| 361/6926 [28:44<8:58:38,  4.92s/it]"
          ]
        },
        {
          "metadata": {
            "tags": null
          },
          "name": "stdout",
          "output_type": "stream",
          "text": [
            "{'epoch': 0, 'iter': 360, 'avg_loss': 8.906828893518844, 'avg_acc': 49.96537396121884, 'loss': 7.50552225112915}\n"
          ]
        },
        {
          "metadata": {
            "tags": null
          },
          "name": "stderr",
          "output_type": "stream",
          "text": [
            "EP_train:0:   5%|| 371/6926 [29:30<8:30:08,  4.67s/it]"
          ]
        },
        {
          "metadata": {
            "tags": null
          },
          "name": "stdout",
          "output_type": "stream",
          "text": [
            "{'epoch': 0, 'iter': 370, 'avg_loss': 8.867243779637421, 'avg_acc': 50.0, 'loss': 7.793371677398682}\n"
          ]
        },
        {
          "metadata": {
            "tags": null
          },
          "name": "stderr",
          "output_type": "stream",
          "text": [
            "EP_train:0:   6%|| 381/6926 [30:19<8:52:26,  4.88s/it]"
          ]
        },
        {
          "metadata": {
            "tags": null
          },
          "name": "stdout",
          "output_type": "stream",
          "text": [
            "{'epoch': 0, 'iter': 380, 'avg_loss': 8.829336153866425, 'avg_acc': 50.09842519685039, 'loss': 7.555172443389893}\n"
          ]
        },
        {
          "metadata": {
            "tags": null
          },
          "name": "stderr",
          "output_type": "stream",
          "text": [
            "EP_train:0:   6%|| 391/6926 [31:06<8:35:57,  4.74s/it]"
          ]
        },
        {
          "metadata": {
            "tags": null
          },
          "name": "stdout",
          "output_type": "stream",
          "text": [
            "{'epoch': 0, 'iter': 390, 'avg_loss': 8.792850846829621, 'avg_acc': 50.079923273657286, 'loss': 7.358202934265137}\n"
          ]
        },
        {
          "metadata": {
            "tags": null
          },
          "name": "stderr",
          "output_type": "stream",
          "text": [
            "EP_train:0:   6%|| 401/6926 [31:54<8:49:29,  4.87s/it]"
          ]
        },
        {
          "metadata": {
            "tags": null
          },
          "name": "stdout",
          "output_type": "stream",
          "text": [
            "{'epoch': 0, 'iter': 400, 'avg_loss': 8.75672159765724, 'avg_acc': 50.038965087281795, 'loss': 7.7423996925354}\n"
          ]
        },
        {
          "metadata": {
            "tags": null
          },
          "name": "stderr",
          "output_type": "stream",
          "text": [
            "EP_train:0:   6%|| 411/6926 [32:43<8:36:09,  4.75s/it]"
          ]
        },
        {
          "metadata": {
            "tags": null
          },
          "name": "stdout",
          "output_type": "stream",
          "text": [
            "{'epoch': 0, 'iter': 410, 'avg_loss': 8.716962505721117, 'avg_acc': 50.04562043795621, 'loss': 7.077208995819092}\n"
          ]
        },
        {
          "metadata": {
            "tags": null
          },
          "name": "stderr",
          "output_type": "stream",
          "text": [
            "EP_train:0:   6%|| 421/6926 [33:31<8:57:00,  4.95s/it]"
          ]
        },
        {
          "metadata": {
            "tags": null
          },
          "name": "stdout",
          "output_type": "stream",
          "text": [
            "{'epoch': 0, 'iter': 420, 'avg_loss': 8.6810983501534, 'avg_acc': 50.02226840855107, 'loss': 6.905026912689209}\n"
          ]
        },
        {
          "metadata": {
            "tags": null
          },
          "name": "stderr",
          "output_type": "stream",
          "text": [
            "EP_train:0:   6%|| 431/6926 [34:19<8:36:52,  4.77s/it]"
          ]
        },
        {
          "metadata": {
            "tags": null
          },
          "name": "stdout",
          "output_type": "stream",
          "text": [
            "{'epoch': 0, 'iter': 430, 'avg_loss': 8.643783383469017, 'avg_acc': 50.06525522041764, 'loss': 7.383304119110107}\n"
          ]
        },
        {
          "metadata": {
            "tags": null
          },
          "name": "stderr",
          "output_type": "stream",
          "text": [
            "EP_train:0:   6%|| 441/6926 [35:07<8:43:45,  4.85s/it]"
          ]
        },
        {
          "metadata": {
            "tags": null
          },
          "name": "stdout",
          "output_type": "stream",
          "text": [
            "{'epoch': 0, 'iter': 440, 'avg_loss': 8.606722616554658, 'avg_acc': 50.035430839002274, 'loss': 6.96976375579834}\n"
          ]
        },
        {
          "metadata": {
            "tags": null
          },
          "name": "stderr",
          "output_type": "stream",
          "text": [
            "EP_train:0:   7%|| 451/6926 [35:55<8:31:58,  4.74s/it]"
          ]
        },
        {
          "metadata": {
            "tags": null
          },
          "name": "stdout",
          "output_type": "stream",
          "text": [
            "{'epoch': 0, 'iter': 450, 'avg_loss': 8.574656672594024, 'avg_acc': 49.98614190687361, 'loss': 7.143794536590576}\n"
          ]
        },
        {
          "metadata": {
            "tags": null
          },
          "name": "stderr",
          "output_type": "stream",
          "text": [
            "EP_train:0:   7%|| 461/6926 [36:43<8:50:52,  4.93s/it]"
          ]
        },
        {
          "metadata": {
            "tags": null
          },
          "name": "stdout",
          "output_type": "stream",
          "text": [
            "{'epoch': 0, 'iter': 460, 'avg_loss': 8.541189538165442, 'avg_acc': 50.0, 'loss': 6.8060760498046875}\n"
          ]
        },
        {
          "metadata": {
            "tags": null
          },
          "name": "stderr",
          "output_type": "stream",
          "text": [
            "EP_train:0:   7%|| 471/6926 [37:30<8:25:54,  4.70s/it]"
          ]
        },
        {
          "metadata": {
            "tags": null
          },
          "name": "stdout",
          "output_type": "stream",
          "text": [
            "{'epoch': 0, 'iter': 470, 'avg_loss': 8.508119216643575, 'avg_acc': 50.072983014862, 'loss': 7.024655818939209}\n"
          ]
        },
        {
          "metadata": {
            "tags": null
          },
          "name": "stderr",
          "output_type": "stream",
          "text": [
            "EP_train:0:   7%|| 481/6926 [38:17<8:19:58,  4.65s/it]"
          ]
        },
        {
          "metadata": {
            "tags": null
          },
          "name": "stdout",
          "output_type": "stream",
          "text": [
            "{'epoch': 0, 'iter': 480, 'avg_loss': 8.473988975160088, 'avg_acc': 50.025987525987524, 'loss': 7.056069850921631}\n"
          ]
        },
        {
          "metadata": {
            "tags": null
          },
          "name": "stderr",
          "output_type": "stream",
          "text": [
            "EP_train:0:   7%|| 491/6926 [39:07<8:34:24,  4.80s/it]"
          ]
        },
        {
          "metadata": {
            "tags": null
          },
          "name": "stdout",
          "output_type": "stream",
          "text": [
            "{'epoch': 0, 'iter': 490, 'avg_loss': 8.441669033889616, 'avg_acc': 50.10819755600815, 'loss': 7.206112384796143}\n"
          ]
        },
        {
          "metadata": {
            "tags": null
          },
          "name": "stderr",
          "output_type": "stream",
          "text": [
            "EP_train:0:   7%|| 501/6926 [39:55<8:38:03,  4.84s/it]"
          ]
        },
        {
          "metadata": {
            "tags": null
          },
          "name": "stdout",
          "output_type": "stream",
          "text": [
            "{'epoch': 0, 'iter': 500, 'avg_loss': 8.407986568595597, 'avg_acc': 50.2183133732535, 'loss': 6.941277503967285}\n"
          ]
        },
        {
          "metadata": {
            "tags": null
          },
          "name": "stderr",
          "output_type": "stream",
          "text": [
            "EP_train:0:   7%|| 511/6926 [40:44<8:35:03,  4.82s/it]"
          ]
        },
        {
          "metadata": {
            "tags": null
          },
          "name": "stdout",
          "output_type": "stream",
          "text": [
            "{'epoch': 0, 'iter': 510, 'avg_loss': 8.37630686414685, 'avg_acc': 50.134540117416826, 'loss': 6.602416515350342}\n"
          ]
        },
        {
          "metadata": {
            "tags": null
          },
          "name": "stderr",
          "output_type": "stream",
          "text": [
            "EP_train:0:   8%|| 521/6926 [41:32<8:21:30,  4.70s/it]"
          ]
        },
        {
          "metadata": {
            "tags": null
          },
          "name": "stdout",
          "output_type": "stream",
          "text": [
            "{'epoch': 0, 'iter': 520, 'avg_loss': 8.346722679723934, 'avg_acc': 50.14995201535508, 'loss': 6.5288166999816895}\n"
          ]
        },
        {
          "metadata": {
            "tags": null
          },
          "name": "stderr",
          "output_type": "stream",
          "text": [
            "EP_train:0:   8%|| 531/6926 [42:19<8:25:14,  4.74s/it]"
          ]
        },
        {
          "metadata": {
            "tags": null
          },
          "name": "stdout",
          "output_type": "stream",
          "text": [
            "{'epoch': 0, 'iter': 530, 'avg_loss': 8.315257511569955, 'avg_acc': 50.1530131826742, 'loss': 6.785846710205078}\n"
          ]
        },
        {
          "metadata": {
            "tags": null
          },
          "name": "stderr",
          "output_type": "stream",
          "text": [
            "EP_train:0:   8%|| 541/6926 [43:07<8:10:40,  4.61s/it]"
          ]
        },
        {
          "metadata": {
            "tags": null
          },
          "name": "stdout",
          "output_type": "stream",
          "text": [
            "{'epoch': 0, 'iter': 540, 'avg_loss': 8.285888042555719, 'avg_acc': 50.167513863216264, 'loss': 6.770153999328613}\n"
          ]
        },
        {
          "metadata": {
            "tags": null
          },
          "name": "stderr",
          "output_type": "stream",
          "text": [
            "EP_train:0:   8%|| 551/6926 [43:55<8:37:14,  4.87s/it]"
          ]
        },
        {
          "metadata": {
            "tags": null
          },
          "name": "stdout",
          "output_type": "stream",
          "text": [
            "{'epoch': 0, 'iter': 550, 'avg_loss': 8.257771787106883, 'avg_acc': 50.18148820326679, 'loss': 6.416496276855469}\n"
          ]
        },
        {
          "metadata": {
            "tags": null
          },
          "name": "stderr",
          "output_type": "stream",
          "text": [
            "EP_train:0:   8%|| 561/6926 [44:43<8:24:11,  4.75s/it]"
          ]
        },
        {
          "metadata": {
            "tags": null
          },
          "name": "stdout",
          "output_type": "stream",
          "text": [
            "{'epoch': 0, 'iter': 560, 'avg_loss': 8.226078680279846, 'avg_acc': 50.22838680926917, 'loss': 6.646052837371826}\n"
          ]
        },
        {
          "metadata": {
            "tags": null
          },
          "name": "stderr",
          "output_type": "stream",
          "text": [
            "EP_train:0:   8%|| 571/6926 [45:34<8:37:20,  4.88s/it]"
          ]
        },
        {
          "metadata": {
            "tags": null
          },
          "name": "stdout",
          "output_type": "stream",
          "text": [
            "{'epoch': 0, 'iter': 570, 'avg_loss': 8.199035591920495, 'avg_acc': 50.207968476357266, 'loss': 6.771956920623779}\n"
          ]
        },
        {
          "metadata": {
            "tags": null
          },
          "name": "stderr",
          "output_type": "stream",
          "text": [
            "EP_train:0:   8%|| 581/6926 [46:23<8:52:20,  5.03s/it]"
          ]
        },
        {
          "metadata": {
            "tags": null
          },
          "name": "stdout",
          "output_type": "stream",
          "text": [
            "{'epoch': 0, 'iter': 580, 'avg_loss': 8.171430036246058, 'avg_acc': 50.209767641996564, 'loss': 6.745272159576416}\n"
          ]
        },
        {
          "metadata": {
            "tags": null
          },
          "name": "stderr",
          "output_type": "stream",
          "text": [
            "EP_train:0:   9%|| 591/6926 [47:11<8:24:17,  4.78s/it]"
          ]
        },
        {
          "metadata": {
            "tags": null
          },
          "name": "stdout",
          "output_type": "stream",
          "text": [
            "{'epoch': 0, 'iter': 590, 'avg_loss': 8.143898952632588, 'avg_acc': 50.20621827411168, 'loss': 6.713599681854248}\n"
          ]
        },
        {
          "metadata": {
            "tags": null
          },
          "name": "stderr",
          "output_type": "stream",
          "text": [
            "EP_train:0:   9%|| 601/6926 [48:00<8:41:43,  4.95s/it]"
          ]
        },
        {
          "metadata": {
            "tags": null
          },
          "name": "stdout",
          "output_type": "stream",
          "text": [
            "{'epoch': 0, 'iter': 600, 'avg_loss': 8.119889855186475, 'avg_acc': 50.20798668885191, 'loss': 6.57511043548584}\n"
          ]
        },
        {
          "metadata": {
            "tags": null
          },
          "name": "stderr",
          "output_type": "stream",
          "text": [
            "EP_train:0:   9%|| 611/6926 [48:48<8:32:43,  4.87s/it]"
          ]
        },
        {
          "metadata": {
            "tags": null
          },
          "name": "stdout",
          "output_type": "stream",
          "text": [
            "{'epoch': 0, 'iter': 610, 'avg_loss': 8.095716234509956, 'avg_acc': 50.26595744680851, 'loss': 6.485830307006836}\n"
          ]
        },
        {
          "metadata": {
            "tags": null
          },
          "name": "stderr",
          "output_type": "stream",
          "text": [
            "EP_train:0:   9%|| 621/6926 [49:37<8:46:45,  5.01s/it]"
          ]
        },
        {
          "metadata": {
            "tags": null
          },
          "name": "stdout",
          "output_type": "stream",
          "text": [
            "{'epoch': 0, 'iter': 620, 'avg_loss': 8.068703623785488, 'avg_acc': 50.22644927536232, 'loss': 6.428835391998291}\n"
          ]
        },
        {
          "metadata": {
            "tags": null
          },
          "name": "stderr",
          "output_type": "stream",
          "text": [
            "EP_train:0:   9%|| 631/6926 [50:25<8:25:25,  4.82s/it]"
          ]
        },
        {
          "metadata": {
            "tags": null
          },
          "name": "stdout",
          "output_type": "stream",
          "text": [
            "{'epoch': 0, 'iter': 630, 'avg_loss': 8.042698922890303, 'avg_acc': 50.168383518225035, 'loss': 6.434906005859375}\n"
          ]
        },
        {
          "metadata": {
            "tags": null
          },
          "name": "stderr",
          "output_type": "stream",
          "text": [
            "EP_train:0:   9%|| 641/6926 [51:15<9:17:06,  5.32s/it]"
          ]
        },
        {
          "metadata": {
            "tags": null
          },
          "name": "stdout",
          "output_type": "stream",
          "text": [
            "{'epoch': 0, 'iter': 640, 'avg_loss': 8.019276380910888, 'avg_acc': 50.15600624024961, 'loss': 6.13289737701416}\n"
          ]
        },
        {
          "metadata": {
            "tags": null
          },
          "name": "stderr",
          "output_type": "stream",
          "text": [
            "EP_train:0:   9%|| 651/6926 [52:03<8:18:23,  4.77s/it]"
          ]
        },
        {
          "metadata": {
            "tags": null
          },
          "name": "stdout",
          "output_type": "stream",
          "text": [
            "{'epoch': 0, 'iter': 650, 'avg_loss': 7.994847007610831, 'avg_acc': 50.134408602150536, 'loss': 6.324331283569336}\n"
          ]
        },
        {
          "metadata": {
            "tags": null
          },
          "name": "stderr",
          "output_type": "stream",
          "text": [
            "EP_train:0:  10%|| 661/6926 [52:52<8:37:30,  4.96s/it]"
          ]
        },
        {
          "metadata": {
            "tags": null
          },
          "name": "stdout",
          "output_type": "stream",
          "text": [
            "{'epoch': 0, 'iter': 660, 'avg_loss': 7.970054979944734, 'avg_acc': 50.08982602118003, 'loss': 6.301797389984131}\n"
          ]
        },
        {
          "metadata": {
            "tags": null
          },
          "name": "stderr",
          "output_type": "stream",
          "text": [
            "EP_train:0:  10%|| 671/6926 [53:40<8:14:40,  4.75s/it]"
          ]
        },
        {
          "metadata": {
            "tags": null
          },
          "name": "stdout",
          "output_type": "stream",
          "text": [
            "{'epoch': 0, 'iter': 670, 'avg_loss': 7.94545975385231, 'avg_acc': 50.074515648286145, 'loss': 6.471957683563232}\n"
          ]
        },
        {
          "metadata": {
            "tags": null
          },
          "name": "stderr",
          "output_type": "stream",
          "text": [
            "EP_train:0:  10%|| 681/6926 [54:29<8:28:53,  4.89s/it]"
          ]
        },
        {
          "metadata": {
            "tags": null
          },
          "name": "stdout",
          "output_type": "stream",
          "text": [
            "{'epoch': 0, 'iter': 680, 'avg_loss': 7.923141557214544, 'avg_acc': 50.078010279001475, 'loss': 6.572792053222656}\n"
          ]
        },
        {
          "metadata": {
            "tags": null
          },
          "name": "stderr",
          "output_type": "stream",
          "text": [
            "EP_train:0:  10%|| 691/6926 [55:17<8:18:02,  4.79s/it]"
          ]
        },
        {
          "metadata": {
            "tags": null
          },
          "name": "stdout",
          "output_type": "stream",
          "text": [
            "{'epoch': 0, 'iter': 690, 'avg_loss': 7.900468441925932, 'avg_acc': 50.08592619392185, 'loss': 6.185678482055664}\n"
          ]
        },
        {
          "metadata": {
            "tags": null
          },
          "name": "stderr",
          "output_type": "stream",
          "text": [
            "EP_train:0:  10%|| 701/6926 [56:05<8:08:59,  4.71s/it]"
          ]
        },
        {
          "metadata": {
            "tags": null
          },
          "name": "stdout",
          "output_type": "stream",
          "text": [
            "{'epoch': 0, 'iter': 700, 'avg_loss': 7.8779767460897885, 'avg_acc': 50.19169044222539, 'loss': 6.293911457061768}\n"
          ]
        },
        {
          "metadata": {
            "tags": null
          },
          "name": "stderr",
          "output_type": "stream",
          "text": [
            "EP_train:0:  10%|| 711/6926 [56:53<8:34:18,  4.97s/it]"
          ]
        },
        {
          "metadata": {
            "tags": null
          },
          "name": "stdout",
          "output_type": "stream",
          "text": [
            "{'epoch': 0, 'iter': 710, 'avg_loss': 7.854157775095579, 'avg_acc': 50.18020393811533, 'loss': 6.532456398010254}\n"
          ]
        },
        {
          "metadata": {
            "tags": null
          },
          "name": "stderr",
          "output_type": "stream",
          "text": [
            "EP_train:0:  10%|| 721/6926 [57:41<8:33:13,  4.96s/it]"
          ]
        },
        {
          "metadata": {
            "tags": null
          },
          "name": "stdout",
          "output_type": "stream",
          "text": [
            "{'epoch': 0, 'iter': 720, 'avg_loss': 7.8299189539789, 'avg_acc': 50.182038834951456, 'loss': 6.196279048919678}\n"
          ]
        },
        {
          "metadata": {
            "tags": null
          },
          "name": "stderr",
          "output_type": "stream",
          "text": [
            "EP_train:0:  11%|| 731/6926 [58:29<8:18:22,  4.83s/it]"
          ]
        },
        {
          "metadata": {
            "tags": null
          },
          "name": "stdout",
          "output_type": "stream",
          "text": [
            "{'epoch': 0, 'iter': 730, 'avg_loss': 7.810791426579049, 'avg_acc': 50.200923392612864, 'loss': 6.400839328765869}\n"
          ]
        },
        {
          "metadata": {
            "tags": null
          },
          "name": "stderr",
          "output_type": "stream",
          "text": [
            "EP_train:0:  11%|| 741/6926 [59:16<8:04:47,  4.70s/it]"
          ]
        },
        {
          "metadata": {
            "tags": null
          },
          "name": "stdout",
          "output_type": "stream",
          "text": [
            "{'epoch': 0, 'iter': 740, 'avg_loss': 7.790246404938691, 'avg_acc': 50.16025641025641, 'loss': 6.150947093963623}\n"
          ]
        },
        {
          "metadata": {
            "tags": null
          },
          "name": "stderr",
          "output_type": "stream",
          "text": [
            "EP_train:0:  11%|| 751/6926 [1:00:04<8:22:32,  4.88s/it]"
          ]
        },
        {
          "metadata": {
            "tags": null
          },
          "name": "stdout",
          "output_type": "stream",
          "text": [
            "{'epoch': 0, 'iter': 750, 'avg_loss': 7.7705239151194, 'avg_acc': 50.1581225033289, 'loss': 6.367742538452148}\n"
          ]
        },
        {
          "metadata": {
            "tags": null
          },
          "name": "stderr",
          "output_type": "stream",
          "text": [
            "EP_train:0:  11%|| 761/6926 [1:00:50<7:58:33,  4.66s/it]"
          ]
        },
        {
          "metadata": {
            "tags": null
          },
          "name": "stdout",
          "output_type": "stream",
          "text": [
            "{'epoch': 0, 'iter': 760, 'avg_loss': 7.750560091296884, 'avg_acc': 50.16836399474376, 'loss': 6.368185520172119}\n"
          ]
        },
        {
          "metadata": {
            "tags": null
          },
          "name": "stderr",
          "output_type": "stream",
          "text": [
            "EP_train:0:  11%|| 771/6926 [1:01:38<8:24:02,  4.91s/it]"
          ]
        },
        {
          "metadata": {
            "tags": null
          },
          "name": "stdout",
          "output_type": "stream",
          "text": [
            "{'epoch': 0, 'iter': 770, 'avg_loss': 7.73169573179015, 'avg_acc': 50.08916990920882, 'loss': 6.045925617218018}\n"
          ]
        },
        {
          "metadata": {
            "tags": null
          },
          "name": "stderr",
          "output_type": "stream",
          "text": [
            "EP_train:0:  11%|| 781/6926 [1:02:25<7:56:18,  4.65s/it]"
          ]
        },
        {
          "metadata": {
            "tags": null
          },
          "name": "stdout",
          "output_type": "stream",
          "text": [
            "{'epoch': 0, 'iter': 780, 'avg_loss': 7.713467937425523, 'avg_acc': 50.100032010243275, 'loss': 6.635806083679199}\n"
          ]
        },
        {
          "metadata": {
            "tags": null
          },
          "name": "stderr",
          "output_type": "stream",
          "text": [
            "EP_train:0:  11%|| 791/6926 [1:03:13<8:17:33,  4.87s/it]"
          ]
        },
        {
          "metadata": {
            "tags": null
          },
          "name": "stdout",
          "output_type": "stream",
          "text": [
            "{'epoch': 0, 'iter': 790, 'avg_loss': 7.694667415281312, 'avg_acc': 50.10666877370418, 'loss': 6.192216873168945}\n"
          ]
        },
        {
          "metadata": {
            "tags": null
          },
          "name": "stderr",
          "output_type": "stream",
          "text": [
            "EP_train:0:  12%|| 801/6926 [1:04:00<8:21:52,  4.92s/it]"
          ]
        },
        {
          "metadata": {
            "tags": null
          },
          "name": "stdout",
          "output_type": "stream",
          "text": [
            "{'epoch': 0, 'iter': 800, 'avg_loss': 7.6746645688117665, 'avg_acc': 50.10923845193508, 'loss': 5.7025275230407715}\n"
          ]
        },
        {
          "metadata": {
            "tags": null
          },
          "name": "stderr",
          "output_type": "stream",
          "text": [
            "EP_train:0:  12%|| 811/6926 [1:04:48<8:12:56,  4.84s/it]"
          ]
        },
        {
          "metadata": {
            "tags": null
          },
          "name": "stdout",
          "output_type": "stream",
          "text": [
            "{'epoch': 0, 'iter': 810, 'avg_loss': 7.658199835352774, 'avg_acc': 50.0809186189889, 'loss': 6.412147045135498}\n"
          ]
        },
        {
          "metadata": {
            "tags": null
          },
          "name": "stderr",
          "output_type": "stream",
          "text": [
            "EP_train:0:  12%|| 821/6926 [1:05:35<7:53:27,  4.65s/it]"
          ]
        },
        {
          "metadata": {
            "tags": null
          },
          "name": "stdout",
          "output_type": "stream",
          "text": [
            "{'epoch': 0, 'iter': 820, 'avg_loss': 7.640168182452036, 'avg_acc': 50.12941534713764, 'loss': 5.9859161376953125}\n"
          ]
        },
        {
          "metadata": {
            "tags": null
          },
          "name": "stderr",
          "output_type": "stream",
          "text": [
            "EP_train:0:  12%|| 831/6926 [1:06:23<8:11:58,  4.84s/it]"
          ]
        },
        {
          "metadata": {
            "tags": null
          },
          "name": "stdout",
          "output_type": "stream",
          "text": [
            "{'epoch': 0, 'iter': 830, 'avg_loss': 7.622408476690667, 'avg_acc': 50.139139590854384, 'loss': 6.254009246826172}\n"
          ]
        },
        {
          "metadata": {
            "tags": null
          },
          "name": "stderr",
          "output_type": "stream",
          "text": [
            "EP_train:0:  12%|| 841/6926 [1:07:10<7:49:41,  4.63s/it]"
          ]
        },
        {
          "metadata": {
            "tags": null
          },
          "name": "stdout",
          "output_type": "stream",
          "text": [
            "{'epoch': 0, 'iter': 840, 'avg_loss': 7.604670103324863, 'avg_acc': 50.13376932223543, 'loss': 6.418990612030029}\n"
          ]
        },
        {
          "metadata": {
            "tags": null
          },
          "name": "stderr",
          "output_type": "stream",
          "text": [
            "EP_train:0:  12%|| 851/6926 [1:07:58<8:04:48,  4.79s/it]"
          ]
        },
        {
          "metadata": {
            "tags": null
          },
          "name": "stdout",
          "output_type": "stream",
          "text": [
            "{'epoch': 0, 'iter': 850, 'avg_loss': 7.587440138838126, 'avg_acc': 50.10282021151586, 'loss': 5.7308878898620605}\n"
          ]
        },
        {
          "metadata": {
            "tags": null
          },
          "name": "stderr",
          "output_type": "stream",
          "text": [
            "EP_train:0:  12%|| 861/6926 [1:08:44<7:37:18,  4.52s/it]"
          ]
        },
        {
          "metadata": {
            "tags": null
          },
          "name": "stdout",
          "output_type": "stream",
          "text": [
            "{'epoch': 0, 'iter': 860, 'avg_loss': 7.571403894413362, 'avg_acc': 50.09799651567944, 'loss': 6.268427848815918}\n"
          ]
        },
        {
          "metadata": {
            "tags": null
          },
          "name": "stderr",
          "output_type": "stream",
          "text": [
            "EP_train:0:  13%|| 871/6926 [1:09:32<8:08:49,  4.84s/it]"
          ]
        },
        {
          "metadata": {
            "tags": null
          },
          "name": "stdout",
          "output_type": "stream",
          "text": [
            "{'epoch': 0, 'iter': 870, 'avg_loss': 7.556612060757099, 'avg_acc': 50.11122273249139, 'loss': 6.608267784118652}\n"
          ]
        },
        {
          "metadata": {
            "tags": null
          },
          "name": "stderr",
          "output_type": "stream",
          "text": [
            "EP_train:0:  13%|| 881/6926 [1:10:23<9:02:55,  5.39s/it]"
          ]
        },
        {
          "metadata": {
            "tags": null
          },
          "name": "stdout",
          "output_type": "stream",
          "text": [
            "{'epoch': 0, 'iter': 880, 'avg_loss': 7.542390235030556, 'avg_acc': 50.07094211123723, 'loss': 6.1765055656433105}\n"
          ]
        },
        {
          "metadata": {
            "tags": null
          },
          "name": "stderr",
          "output_type": "stream",
          "text": [
            "EP_train:0:  13%|| 891/6926 [1:11:11<8:09:00,  4.86s/it]"
          ]
        },
        {
          "metadata": {
            "tags": null
          },
          "name": "stdout",
          "output_type": "stream",
          "text": [
            "{'epoch': 0, 'iter': 890, 'avg_loss': 7.526234307808239, 'avg_acc': 50.10872615039281, 'loss': 6.314653396606445}\n"
          ]
        },
        {
          "metadata": {
            "tags": null
          },
          "name": "stderr",
          "output_type": "stream",
          "text": [
            "EP_train:0:  13%|| 901/6926 [1:11:59<8:15:31,  4.93s/it]"
          ]
        },
        {
          "metadata": {
            "tags": null
          },
          "name": "stdout",
          "output_type": "stream",
          "text": [
            "{'epoch': 0, 'iter': 900, 'avg_loss': 7.510463363190206, 'avg_acc': 50.12139289678136, 'loss': 6.272817134857178}\n"
          ]
        },
        {
          "metadata": {
            "tags": null
          },
          "name": "stderr",
          "output_type": "stream",
          "text": [
            "EP_train:0:  13%|| 911/6926 [1:12:47<7:55:34,  4.74s/it]"
          ]
        },
        {
          "metadata": {
            "tags": null
          },
          "name": "stdout",
          "output_type": "stream",
          "text": [
            "{'epoch': 0, 'iter': 910, 'avg_loss': 7.4950517398989165, 'avg_acc': 50.089187705817785, 'loss': 6.426809310913086}\n"
          ]
        },
        {
          "metadata": {
            "tags": null
          },
          "name": "stderr",
          "output_type": "stream",
          "text": [
            "EP_train:0:  13%|| 921/6926 [1:13:36<8:05:13,  4.85s/it]"
          ]
        },
        {
          "metadata": {
            "tags": null
          },
          "name": "stdout",
          "output_type": "stream",
          "text": [
            "{'epoch': 0, 'iter': 920, 'avg_loss': 7.478453414059617, 'avg_acc': 50.05089576547231, 'loss': 6.30974817276001}\n"
          ]
        },
        {
          "metadata": {
            "tags": null
          },
          "name": "stderr",
          "output_type": "stream",
          "text": [
            "EP_train:0:  13%|| 931/6926 [1:14:23<7:57:46,  4.78s/it]"
          ]
        },
        {
          "metadata": {
            "tags": null
          },
          "name": "stdout",
          "output_type": "stream",
          "text": [
            "{'epoch': 0, 'iter': 930, 'avg_loss': 7.464730939854869, 'avg_acc': 50.090628356605805, 'loss': 6.300699234008789}\n"
          ]
        },
        {
          "metadata": {
            "tags": null
          },
          "name": "stderr",
          "output_type": "stream",
          "text": [
            "EP_train:0:  14%|| 941/6926 [1:15:12<7:55:22,  4.77s/it]"
          ]
        },
        {
          "metadata": {
            "tags": null
          },
          "name": "stdout",
          "output_type": "stream",
          "text": [
            "{'epoch': 0, 'iter': 940, 'avg_loss': 7.449880015203981, 'avg_acc': 50.08302337938364, 'loss': 6.207947254180908}\n"
          ]
        },
        {
          "metadata": {
            "tags": null
          },
          "name": "stderr",
          "output_type": "stream",
          "text": [
            "EP_train:0:  14%|| 951/6926 [1:16:00<8:13:29,  4.96s/it]"
          ]
        },
        {
          "metadata": {
            "tags": null
          },
          "name": "stdout",
          "output_type": "stream",
          "text": [
            "{'epoch': 0, 'iter': 950, 'avg_loss': 7.4361734305019755, 'avg_acc': 50.14458464773922, 'loss': 6.247646808624268}\n"
          ]
        },
        {
          "metadata": {
            "tags": null
          },
          "name": "stderr",
          "output_type": "stream",
          "text": [
            "EP_train:0:  14%|| 961/6926 [1:16:49<8:18:05,  5.01s/it]"
          ]
        },
        {
          "metadata": {
            "tags": null
          },
          "name": "stdout",
          "output_type": "stream",
          "text": [
            "{'epoch': 0, 'iter': 960, 'avg_loss': 7.423479569938255, 'avg_acc': 50.15933922996878, 'loss': 6.256654739379883}\n"
          ]
        },
        {
          "metadata": {
            "tags": null
          },
          "name": "stderr",
          "output_type": "stream",
          "text": [
            "EP_train:0:  14%|| 971/6926 [1:17:38<8:16:19,  5.00s/it]"
          ]
        },
        {
          "metadata": {
            "tags": null
          },
          "name": "stdout",
          "output_type": "stream",
          "text": [
            "{'epoch': 0, 'iter': 970, 'avg_loss': 7.409568743406192, 'avg_acc': 50.16413491246138, 'loss': 6.013395309448242}\n"
          ]
        },
        {
          "metadata": {
            "tags": null
          },
          "name": "stderr",
          "output_type": "stream",
          "text": [
            "EP_train:0:  14%|| 981/6926 [1:18:26<7:51:31,  4.76s/it]"
          ]
        },
        {
          "metadata": {
            "tags": null
          },
          "name": "stdout",
          "output_type": "stream",
          "text": [
            "{'epoch': 0, 'iter': 980, 'avg_loss': 7.397153897630573, 'avg_acc': 50.17838939857289, 'loss': 6.126323223114014}\n"
          ]
        },
        {
          "metadata": {
            "tags": null
          },
          "name": "stderr",
          "output_type": "stream",
          "text": [
            "EP_train:0:  14%|| 991/6926 [1:19:15<7:55:19,  4.81s/it]"
          ]
        },
        {
          "metadata": {
            "tags": null
          },
          "name": "stdout",
          "output_type": "stream",
          "text": [
            "{'epoch': 0, 'iter': 990, 'avg_loss': 7.3837067958204345, 'avg_acc': 50.20496972754793, 'loss': 6.204795837402344}\n"
          ]
        },
        {
          "metadata": {
            "tags": null
          },
          "name": "stderr",
          "output_type": "stream",
          "text": [
            "EP_train:0:  14%|| 1001/6926 [1:20:05<8:24:48,  5.11s/it]"
          ]
        },
        {
          "metadata": {
            "tags": null
          },
          "name": "stdout",
          "output_type": "stream",
          "text": [
            "{'epoch': 0, 'iter': 1000, 'avg_loss': 7.369806968010627, 'avg_acc': 50.24038461538461, 'loss': 5.940077304840088}\n"
          ]
        },
        {
          "metadata": {
            "tags": null
          },
          "name": "stderr",
          "output_type": "stream",
          "text": [
            "EP_train:0:  15%|| 1011/6926 [1:20:53<7:58:18,  4.85s/it]"
          ]
        },
        {
          "metadata": {
            "tags": null
          },
          "name": "stdout",
          "output_type": "stream",
          "text": [
            "{'epoch': 0, 'iter': 1010, 'avg_loss': 7.357799674825546, 'avg_acc': 50.22564292779427, 'loss': 6.182693958282471}\n"
          ]
        },
        {
          "metadata": {
            "tags": null
          },
          "name": "stderr",
          "output_type": "stream",
          "text": [
            "EP_train:0:  15%|| 1021/6926 [1:21:43<8:09:07,  4.97s/it]"
          ]
        },
        {
          "metadata": {
            "tags": null
          },
          "name": "stdout",
          "output_type": "stream",
          "text": [
            "{'epoch': 0, 'iter': 1020, 'avg_loss': 7.346039466596373, 'avg_acc': 50.19588638589618, 'loss': 5.924319744110107}\n"
          ]
        },
        {
          "metadata": {
            "tags": null
          },
          "name": "stderr",
          "output_type": "stream",
          "text": [
            "EP_train:0:  15%|| 1031/6926 [1:22:30<7:41:32,  4.70s/it]"
          ]
        },
        {
          "metadata": {
            "tags": null
          },
          "name": "stdout",
          "output_type": "stream",
          "text": [
            "{'epoch': 0, 'iter': 1030, 'avg_loss': 7.334707722631505, 'avg_acc': 50.21217264791464, 'loss': 6.362477779388428}\n"
          ]
        },
        {
          "metadata": {
            "tags": null
          },
          "name": "stderr",
          "output_type": "stream",
          "text": [
            "EP_train:0:  15%|| 1041/6926 [1:23:22<8:22:58,  5.13s/it]"
          ]
        },
        {
          "metadata": {
            "tags": null
          },
          "name": "stdout",
          "output_type": "stream",
          "text": [
            "{'epoch': 0, 'iter': 1040, 'avg_loss': 7.323835137941652, 'avg_acc': 50.18912103746398, 'loss': 6.165736675262451}\n"
          ]
        },
        {
          "output_type": "stream",
          "name": "stderr",
          "text": [
            "EP_train:0:  15%|| 1051/6926 [1:24:11<8:17:01,  5.08s/it]"
          ]
        },
        {
          "output_type": "stream",
          "name": "stdout",
          "text": [
            "{'epoch': 0, 'iter': 1050, 'avg_loss': 7.312341850672757, 'avg_acc': 50.16948144624167, 'loss': 6.175000190734863}\n",
            "{'epoch': 0, 'iter': 1050, 'avg_loss': 7.312341850672757, 'avg_acc': 50.16948144624167, 'loss': 6.175000190734863}\n"
          ]
        },
        {
          "output_type": "stream",
          "name": "stderr",
          "text": [
            "EP_train:0:  15%|| 1053/6926 [1:24:20<7:42:30,  4.73s/it]"
          ]
        }
      ]
    },
    {
      "cell_type": "code",
      "source": [
        "!git status\n",
        "# !git add . to stage all changes in the repository.\n",
        "# !git commit -m \"Your commit message\" to commit the staged changes.\n",
        "# !git push to push committed changes to the remote repository."
      ],
      "metadata": {
        "colab": {
          "base_uri": "https://localhost:8080/"
        },
        "id": "AwGWsadDuj_D",
        "outputId": "32b265f4-ce09-4662-e8fc-a465f4dc30fb"
      },
      "execution_count": 5,
      "outputs": [
        {
          "output_type": "stream",
          "name": "stdout",
          "text": [
            "fatal: not a git repository (or any of the parent directories): .git\n"
          ]
        }
      ]
    },
    {
      "cell_type": "code",
      "source": [],
      "metadata": {
        "id": "8owHX1VLumea"
      },
      "execution_count": null,
      "outputs": []
    }
  ]
}